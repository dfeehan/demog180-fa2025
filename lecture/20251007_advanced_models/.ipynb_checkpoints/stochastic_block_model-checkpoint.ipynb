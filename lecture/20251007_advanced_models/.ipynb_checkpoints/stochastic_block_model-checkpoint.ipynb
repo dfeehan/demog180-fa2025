{
 "cells": [
  {
   "cell_type": "code",
   "execution_count": null,
   "id": "4e2a0dd7",
   "metadata": {},
   "outputs": [],
   "source": [
    "from datascience import *\n",
    "\n",
    "import matplotlib\n",
    "matplotlib.use('Agg')\n",
    "%matplotlib inline\n",
    "import matplotlib.pyplot as plt\n",
    "from matplotlib import pyplot, patches\n",
    "import numpy as np\n",
    "plt.style.use('fivethirtyeight')\n",
    "\n",
    "import os\n",
    "import networkx as nx\n",
    "from networkx.algorithms import bipartite\n",
    "from networkx.utils import groups\n",
    "import pandas as pd\n",
    "from collections import defaultdict\n",
    "\n",
    "import zipfile\n",
    "import requests\n",
    "import io\n",
    "\n",
    "# functions to help read in add health data\n",
    "# (which is assumed to be stored under data/)\n",
    "import sbms.sbms as sbms\n",
    "\n",
    "%matplotlib inline"
   ]
  },
  {
   "cell_type": "code",
   "execution_count": null,
   "id": "b31dcf91",
   "metadata": {},
   "outputs": [],
   "source": []
  },
  {
   "cell_type": "markdown",
   "id": "55427e57",
   "metadata": {},
   "source": [
    "## Stochastic block model"
   ]
  },
  {
   "cell_type": "code",
   "execution_count": null,
   "id": "fd7719de",
   "metadata": {},
   "outputs": [],
   "source": [
    "# number of nodes in each group/block\n",
    "block_sizes = [100, 200, 100, 200]\n",
    "# stochastic block matrix\n",
    "block_probs  = [ [0.4, 0.2, 0.2, 0.2],\n",
    "                 [0.2, 0.4, 0.2, 0.2],\n",
    "                 [0.2, 0.2, 0.4, 0.2],\n",
    "                 [0.2, 0.2, 0.2, 0.4] ]"
   ]
  },
  {
   "cell_type": "code",
   "execution_count": null,
   "id": "79e46ed5",
   "metadata": {},
   "outputs": [],
   "source": [
    "g = nx.stochastic_block_model(block_sizes, block_probs)"
   ]
  },
  {
   "cell_type": "markdown",
   "id": "0b8117e1",
   "metadata": {},
   "source": [
    "The nodes have an attribute with the index of their block:"
   ]
  },
  {
   "cell_type": "code",
   "execution_count": null,
   "id": "042c8923",
   "metadata": {
    "scrolled": true
   },
   "outputs": [],
   "source": [
    "nx.get_node_attributes(g, 'block')"
   ]
  },
  {
   "cell_type": "markdown",
   "id": "6ec32e97",
   "metadata": {},
   "source": [
    "Here's a helper function we can use to count the number of edges between the blocks:"
   ]
  },
  {
   "cell_type": "code",
   "execution_count": null,
   "id": "da242ae4",
   "metadata": {},
   "outputs": [],
   "source": [
    "sbms.get_block_stats(g)"
   ]
  },
  {
   "cell_type": "markdown",
   "id": "13538085",
   "metadata": {},
   "source": [
    "Let's use this info to check a couple of our formulas. \n",
    "\n",
    "In lecture, we said that the expected number of edges from group 0 to itself should be\n",
    "\n",
    "$$\n",
    "\\frac{n_0~(n_0-1)}{2}p_{0,0} = \\frac{100*99}{2}\\times 0.4\n",
    "$$"
   ]
  },
  {
   "cell_type": "code",
   "execution_count": null,
   "id": "c1a2066c",
   "metadata": {},
   "outputs": [],
   "source": [
    "((100*99)/2)*.4"
   ]
  },
  {
   "cell_type": "markdown",
   "id": "4377a476",
   "metadata": {},
   "source": [
    "Pretty close!\n",
    "\n",
    "Let's also check the number of expected edges between, say, group 2 and group 3. This should be\n",
    "\n",
    "$$\n",
    "n_2~n_3~p_{23} = 100 \\times 200 \\times 0.2\n",
    "$$"
   ]
  },
  {
   "cell_type": "code",
   "execution_count": null,
   "id": "a29c8caf",
   "metadata": {},
   "outputs": [],
   "source": [
    "100*200*0.2"
   ]
  },
  {
   "cell_type": "markdown",
   "id": "e2d42960",
   "metadata": {},
   "source": [
    "Again, looks pretty close"
   ]
  },
  {
   "cell_type": "markdown",
   "id": "38a4aae0",
   "metadata": {},
   "source": [
    "Let's see if we can visualize the network in a helpful way:"
   ]
  },
  {
   "cell_type": "code",
   "execution_count": null,
   "id": "1c898438",
   "metadata": {},
   "outputs": [],
   "source": [
    "nx.draw_networkx(g)"
   ]
  },
  {
   "cell_type": "markdown",
   "id": "47a8720b",
   "metadata": {},
   "source": [
    "It's kind of hard to tell what is going on!"
   ]
  },
  {
   "cell_type": "markdown",
   "id": "514e8420",
   "metadata": {},
   "source": []
  },
  {
   "cell_type": "markdown",
   "id": "a81728eb",
   "metadata": {},
   "source": [
    "We have a helper function (loaded above) called `draw_adjacency_matrix` which can potentially help visualize the structure of a block model.\n",
    "\n",
    "Recall that an adjacency matrix is a big table showing which pairs of nodes are connected with an edge. Entry $(i,j)$ of the adjacency matrix is 0 if there is no edge and 1 if there is an edge between nodes $i$ and $j$.\n",
    "\n",
    "This plot will draw the adjacency matrix as an image, where a dark square means the matrix entry is 1 (i.e., there is an edge) and a light square means the matrix entry is 0 (i.e., there is no edge)."
   ]
  },
  {
   "cell_type": "code",
   "execution_count": null,
   "id": "93d5ec42",
   "metadata": {},
   "outputs": [],
   "source": [
    "sbms.draw_adjacency_matrix(g)"
   ]
  },
  {
   "cell_type": "markdown",
   "id": "71eaad5b",
   "metadata": {},
   "source": [
    "We can see that there is a greater density of edges within the blocks (which makes sense, given the parameters we chose for the block matrix)"
   ]
  },
  {
   "cell_type": "markdown",
   "id": "2942b79f",
   "metadata": {},
   "source": [
    "### Another example: community structure"
   ]
  },
  {
   "cell_type": "code",
   "execution_count": null,
   "id": "ccabd6c9",
   "metadata": {},
   "outputs": [],
   "source": [
    "p_w = 0.4 # within-group prob\n",
    "p_o = 0.01 # outside-group prob\n",
    "\n",
    "# number of nodes in each group/block\n",
    "block_sizes = [100, 200, 100, 200]\n",
    "# stochastic block matrix\n",
    "block_probs  = [ [p_w, p_o, p_o, p_o],\n",
    "                 [p_o, p_w, p_o, p_o],\n",
    "                 [p_o, p_o, p_w, p_o],\n",
    "                 [p_o, p_o, p_o, p_w] ]"
   ]
  },
  {
   "cell_type": "code",
   "execution_count": null,
   "id": "e34458c7",
   "metadata": {},
   "outputs": [],
   "source": [
    "g = nx.stochastic_block_model(block_sizes, block_probs)"
   ]
  },
  {
   "cell_type": "code",
   "execution_count": null,
   "id": "fea18288",
   "metadata": {},
   "outputs": [],
   "source": [
    "sbms.draw_adjacency_matrix(g)"
   ]
  },
  {
   "cell_type": "markdown",
   "id": "d943b45e",
   "metadata": {},
   "source": [
    "When there is very strong structure to the blocks in this way, sometimes researchers will lay the network nodes out to illustrate it. The `visualize_blocks` helper function can do this for us:"
   ]
  },
  {
   "cell_type": "code",
   "execution_count": null,
   "id": "0f91a4a0",
   "metadata": {
    "scrolled": true
   },
   "outputs": [],
   "source": [
    "fig, ax = plt.subplots(1, figsize=(15, 20))\n",
    "sbms.visualize_blocks(g, edge_alpha=.1, node_size=10)"
   ]
  },
  {
   "cell_type": "markdown",
   "id": "c7abd14f",
   "metadata": {},
   "source": [
    "### Disassortative  example"
   ]
  },
  {
   "cell_type": "code",
   "execution_count": null,
   "id": "d1452b50",
   "metadata": {},
   "outputs": [],
   "source": [
    "p_w = 0.01 # within-group prob\n",
    "p_o = 0.2 # outside-group prob\n",
    "\n",
    "# number of nodes in each group/block\n",
    "block_sizes = [100, 200, 100, 200]\n",
    "# stochastic block matrix\n",
    "block_probs  = [ [p_w, p_o, p_o, p_o],\n",
    "                 [p_o, p_w, p_o, p_o],\n",
    "                 [p_o, p_o, p_w, p_o],\n",
    "                 [p_o, p_o, p_o, p_w] ]"
   ]
  },
  {
   "cell_type": "code",
   "execution_count": null,
   "id": "45f8aa59",
   "metadata": {},
   "outputs": [],
   "source": [
    "g = nx.stochastic_block_model(block_sizes, block_probs)"
   ]
  },
  {
   "cell_type": "code",
   "execution_count": null,
   "id": "310f6abf",
   "metadata": {},
   "outputs": [],
   "source": [
    "sbms.draw_adjacency_matrix(g)"
   ]
  },
  {
   "cell_type": "markdown",
   "id": "1c8766c2",
   "metadata": {},
   "source": [
    "In this case, edges are mostly between groups, with very few edges within a group. This case is approaching something like a *multi-partite network* -- i.e., a generalization of a bi-partite network in which nodes can be partitioned into different groups with all edges going between different groups. (A bi-partite network is the same but with only two groups.)"
   ]
  },
  {
   "cell_type": "markdown",
   "id": "ca922a50",
   "metadata": {},
   "source": [
    "## Hierarchical example"
   ]
  },
  {
   "cell_type": "code",
   "execution_count": null,
   "id": "dbfe602b",
   "metadata": {},
   "outputs": [],
   "source": [
    "p_h = 0.3\n",
    "\n",
    "# number of nodes in each group/block\n",
    "block_sizes = [100, 200, 200, 200]\n",
    "# stochastic block matrix\n",
    "block_probs  = [ [0,   p_h, 0,   0  ],\n",
    "                 [p_h, 0,   p_h, 0  ],\n",
    "                 [0,   p_h, 0,   p_h],\n",
    "                 [0,   0,   p_h,   0] ]"
   ]
  },
  {
   "cell_type": "code",
   "execution_count": null,
   "id": "ad8cf31d",
   "metadata": {},
   "outputs": [],
   "source": [
    "g = nx.stochastic_block_model(block_sizes, block_probs)"
   ]
  },
  {
   "cell_type": "code",
   "execution_count": null,
   "id": "1bb92eb6",
   "metadata": {},
   "outputs": [],
   "source": [
    "sbms.draw_adjacency_matrix(g)"
   ]
  },
  {
   "cell_type": "markdown",
   "id": "676eb9c8",
   "metadata": {},
   "source": [
    "This produces a kind of hierarchical structure..."
   ]
  },
  {
   "cell_type": "code",
   "execution_count": null,
   "id": "4f79fcd7",
   "metadata": {},
   "outputs": [],
   "source": [
    "fig, ax = plt.subplots(1, figsize=(15, 20))\n",
    "sbms.visualize_blocks(g, edge_alpha=.01, node_size=10)"
   ]
  },
  {
   "cell_type": "markdown",
   "id": "aef1264a",
   "metadata": {},
   "source": [
    "### ER  example"
   ]
  },
  {
   "cell_type": "markdown",
   "id": "325ba907",
   "metadata": {},
   "source": [
    "Finally, note that if all of the entries in the block matrix are the same, then the model is essentially an Erdos-Renyi random network model"
   ]
  },
  {
   "cell_type": "code",
   "execution_count": null,
   "id": "e421e65e",
   "metadata": {},
   "outputs": [],
   "source": [
    "p_w = 0.1 # within-group prob\n",
    "p_o = 0.1 # outside-group prob\n",
    "\n",
    "# number of nodes in each group/block\n",
    "block_sizes = [100, 200, 100, 200]\n",
    "# stochastic block matrix\n",
    "block_probs  = [ [p_w, p_o, p_o, p_o],\n",
    "                 [p_o, p_w, p_o, p_o],\n",
    "                 [p_o, p_o, p_w, p_o],\n",
    "                 [p_o, p_o, p_o, p_w] ]"
   ]
  },
  {
   "cell_type": "code",
   "execution_count": null,
   "id": "90d8fbd0",
   "metadata": {},
   "outputs": [],
   "source": [
    "g = nx.stochastic_block_model(block_sizes, block_probs)"
   ]
  },
  {
   "cell_type": "code",
   "execution_count": null,
   "id": "acb1619b",
   "metadata": {},
   "outputs": [],
   "source": [
    "sbms.draw_adjacency_matrix(g)"
   ]
  },
  {
   "cell_type": "markdown",
   "id": "dd63d0b5",
   "metadata": {},
   "source": [
    "In this case, the node layout algorithm doesn't work as well - this is a hint that it's hard to find these groups without knowing them in advance. We'll talk about that in a future class!"
   ]
  },
  {
   "cell_type": "code",
   "execution_count": null,
   "id": "f0f0a018",
   "metadata": {},
   "outputs": [],
   "source": [
    "fig, ax = plt.subplots(1, figsize=(15, 20))\n",
    "sbms.visualize_blocks(g, edge_alpha=.1, node_size=10)"
   ]
  },
  {
   "cell_type": "code",
   "execution_count": null,
   "id": "c8a76ac9",
   "metadata": {},
   "outputs": [],
   "source": []
  }
 ],
 "metadata": {
  "kernelspec": {
   "display_name": "Python 3",
   "language": "python",
   "name": "python3"
  },
  "language_info": {
   "codemirror_mode": {
    "name": "ipython",
    "version": 3
   },
   "file_extension": ".py",
   "mimetype": "text/x-python",
   "name": "python",
   "nbconvert_exporter": "python",
   "pygments_lexer": "ipython3",
   "version": "3.7.7"
  }
 },
 "nbformat": 4,
 "nbformat_minor": 5
}
