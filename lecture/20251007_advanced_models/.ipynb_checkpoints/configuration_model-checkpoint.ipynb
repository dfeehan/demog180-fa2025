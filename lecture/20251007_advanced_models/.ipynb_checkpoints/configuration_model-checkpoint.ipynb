{
 "cells": [
  {
   "cell_type": "code",
   "execution_count": null,
   "id": "07c5a697",
   "metadata": {},
   "outputs": [],
   "source": [
    "from datascience import *\n",
    "\n",
    "import matplotlib\n",
    "matplotlib.use('Agg')\n",
    "%matplotlib inline\n",
    "import matplotlib.pyplot as plt\n",
    "import numpy as np\n",
    "plt.style.use('fivethirtyeight')\n",
    "\n",
    "\n",
    "import os\n",
    "import networkx as nx\n",
    "from networkx.algorithms import bipartite\n",
    "import pandas as pd\n",
    "\n",
    "import zipfile\n",
    "import requests\n",
    "import io\n",
    "\n",
    "# functions to help read in add health data\n",
    "# (which is assumed to be stored under data/)\n",
    "import add_health.add_health as add_health"
   ]
  },
  {
   "cell_type": "markdown",
   "id": "d28458e2",
   "metadata": {},
   "source": [
    "## Functions to help load data"
   ]
  },
  {
   "cell_type": "code",
   "execution_count": null,
   "id": "bade06e6",
   "metadata": {},
   "outputs": [],
   "source": [
    "# EXCEPTIONS: networks 1 and 48 have formatting problems, so we'll omit them today\n",
    "# this will take a few seconds\n",
    "\n",
    "add_health_ids = [x for x in range(2, 85) if x != 48]\n",
    "add_health_networks = [add_health.read_add_health_network(x) for x in add_health_ids]"
   ]
  },
  {
   "cell_type": "markdown",
   "id": "e3265b97",
   "metadata": {},
   "source": [
    "## Configuration model"
   ]
  },
  {
   "cell_type": "markdown",
   "id": "8233364b",
   "metadata": {},
   "source": [
    "We have seen that the Erdos-Renyi random network model can produce networks that have a degree distribution with a characteristic shape, called the *Poisson* distribution.\n",
    "\n",
    "Although some real-world networks have degree distributions that are well-approximated by a Poisson distribution, many do not. We would like a model that can generate networks that are random, but whose degree distributions match what we see in some real-world network. The *configuration model* can be helpful in this situation."
   ]
  },
  {
   "cell_type": "markdown",
   "id": "fde38710",
   "metadata": {},
   "source": [
    "To explore the configuration model, we'll start with the network from one of the Add Health schools:"
   ]
  },
  {
   "cell_type": "code",
   "execution_count": null,
   "id": "4c498cea",
   "metadata": {},
   "outputs": [],
   "source": [
    "cur_network = add_health_networks[0]"
   ]
  },
  {
   "cell_type": "markdown",
   "id": "99064b28",
   "metadata": {},
   "source": [
    "We'll get a list with the degrees of the nodes in the network"
   ]
  },
  {
   "cell_type": "code",
   "execution_count": null,
   "id": "a5c03e4b",
   "metadata": {},
   "outputs": [],
   "source": [
    "def get_degree_list(g):\n",
    "    return([deg_val for (node, deg_val) in g.degree()])"
   ]
  },
  {
   "cell_type": "code",
   "execution_count": null,
   "id": "66052391",
   "metadata": {},
   "outputs": [],
   "source": [
    "def plot_degree_list(deg_list, **kwargs):\n",
    "    Table().with_column('degree', deg_list).hist(**kwargs)"
   ]
  },
  {
   "cell_type": "code",
   "execution_count": null,
   "id": "0fe23cdc",
   "metadata": {},
   "outputs": [],
   "source": [
    "def compare_degree_lists(name1, deg_list1, name2, deg_list2, **kwargs):\n",
    "    Table().with_column(name1, deg_list1).with_column(name2, deg_list2).hist(**kwargs)"
   ]
  },
  {
   "cell_type": "code",
   "execution_count": null,
   "id": "ddd036f1",
   "metadata": {},
   "outputs": [],
   "source": [
    "cur_network_degrees = get_degree_list(cur_network)\n",
    "cur_network_degrees"
   ]
  },
  {
   "cell_type": "markdown",
   "id": "39dd0e69",
   "metadata": {},
   "source": [
    "It's helpful to visualize this as a histogram"
   ]
  },
  {
   "cell_type": "code",
   "execution_count": null,
   "id": "4f6e9c48",
   "metadata": {},
   "outputs": [],
   "source": [
    "plot_degree_list(cur_network_degrees)"
   ]
  },
  {
   "cell_type": "code",
   "execution_count": null,
   "id": "8c368968",
   "metadata": {},
   "outputs": [],
   "source": [
    "avg_degree = np.mean(cur_network_degrees)\n",
    "avg_degree"
   ]
  },
  {
   "cell_type": "code",
   "execution_count": null,
   "id": "374db3ef",
   "metadata": {},
   "outputs": [],
   "source": [
    "num_nodes = cur_network.number_of_nodes()\n",
    "num_nodes"
   ]
  },
  {
   "cell_type": "markdown",
   "id": "54c8205e",
   "metadata": {},
   "source": [
    "Our network has 105 nodes and an average degree of about 6.5."
   ]
  },
  {
   "cell_type": "markdown",
   "id": "2b036bc0",
   "metadata": {},
   "source": [
    "This suggests that a 'matching' ER network would have parameters\n",
    "\n",
    "* $n = 105$ \n",
    "* $\\bar{d} = 6.5 \\Longleftrightarrow p = 6.5/104 = 0.0625$"
   ]
  },
  {
   "cell_type": "markdown",
   "id": "aa7b9b60",
   "metadata": {},
   "source": [
    "### How well does ER approximate this network's degree distribution?"
   ]
  },
  {
   "cell_type": "markdown",
   "id": "8e193fd3",
   "metadata": {},
   "source": [
    "To investigate how well the ER model approximates this network's degree distribution, let's generate five ER networks with parameter values chosen to match the observed network. Then we'll plot the degree distribution from the ER network and compare it to the degree distribution of the real netowrk."
   ]
  },
  {
   "cell_type": "code",
   "execution_count": null,
   "id": "fa37f59f",
   "metadata": {},
   "outputs": [],
   "source": [
    "for i in range(5):\n",
    "    er_graph = nx.erdos_renyi_graph(n=num_nodes, p = avg_degree/(num_nodes - 1) )\n",
    "    er_degrees = get_degree_list(er_graph)\n",
    "    #plot_degree_list(er_degrees)\n",
    "    compare_degree_lists('observed', cur_network_degrees, 'ER', er_degrees)"
   ]
  },
  {
   "cell_type": "markdown",
   "id": "93748a02",
   "metadata": {},
   "source": [
    "The ER model appears to produce a degree distribution that is a little more peaked around the mean than the real network.\n",
    "\n",
    "Now let's see if the configuration model can help us do better."
   ]
  },
  {
   "cell_type": "markdown",
   "id": "44a8e6d3",
   "metadata": {},
   "source": [
    "### Using the configuration model to more closely match the observed degree distribution"
   ]
  },
  {
   "cell_type": "markdown",
   "id": "e9cbdfcd",
   "metadata": {},
   "source": [
    "The **configuration model** was designed to help address this concern."
   ]
  },
  {
   "cell_type": "markdown",
   "id": "3608b585",
   "metadata": {},
   "source": [
    "We can draw a network from the configuration model whose degree sequence matches the one we observed in the real Add Health dataset using the `nx.configuration_model` function:"
   ]
  },
  {
   "cell_type": "code",
   "execution_count": null,
   "id": "4764ebdf",
   "metadata": {},
   "outputs": [],
   "source": [
    "config_model_graph = nx.configuration_model(cur_network_degrees)"
   ]
  },
  {
   "cell_type": "markdown",
   "id": "83c4e6ae",
   "metadata": {},
   "source": [
    "Let's check that the random network generated by the configuration model matches our original network in two ways:\n",
    "\n",
    "* it should have the same number of nodes\n",
    "* it should have the same degrees"
   ]
  },
  {
   "cell_type": "code",
   "execution_count": null,
   "id": "69c166a0",
   "metadata": {},
   "outputs": [],
   "source": [
    "config_model_graph.number_of_nodes()"
   ]
  },
  {
   "cell_type": "code",
   "execution_count": null,
   "id": "05676969",
   "metadata": {},
   "outputs": [],
   "source": [
    "config_model_degree_list = get_degree_list(config_model_graph)\n",
    "cur_network_degrees == config_model_degree_list"
   ]
  },
  {
   "cell_type": "markdown",
   "id": "02949819",
   "metadata": {},
   "source": [
    "So we see that the degree sequence is exactly the same in the Add Health network and the network drawn from the configuration model."
   ]
  },
  {
   "cell_type": "markdown",
   "id": "7bde6b34",
   "metadata": {},
   "source": [
    "To see this another way, when we plot the two degree distributions, we find that they are identical:"
   ]
  },
  {
   "cell_type": "code",
   "execution_count": null,
   "id": "a865de2b",
   "metadata": {},
   "outputs": [],
   "source": [
    "compare_degree_lists('observed', cur_network_degrees, 'config model', config_model_degree_list)"
   ]
  },
  {
   "cell_type": "markdown",
   "id": "ffb202de",
   "metadata": {},
   "source": [
    "(We can't see the 'observed' distribution because it is completely covered up by the 'config model' distribution)"
   ]
  },
  {
   "cell_type": "markdown",
   "id": "bec781c0",
   "metadata": {},
   "source": [
    "Let's look a little more closely at the network we drew from the configuration model"
   ]
  },
  {
   "cell_type": "code",
   "execution_count": null,
   "id": "36c63704",
   "metadata": {},
   "outputs": [],
   "source": [
    "config_model_graph"
   ]
  },
  {
   "cell_type": "markdown",
   "id": "b5213b04",
   "metadata": {},
   "source": [
    "This produced a `MultiGraph`. If you check out the definition of a `MultiGraph`, you'll find that this is a type of graph that can have multiple edges between the same pair of nodes, and that can have self loops (edges that begin and end at the same node)."
   ]
  },
  {
   "cell_type": "markdown",
   "id": "adfedcbc",
   "metadata": {},
   "source": [
    "We will typically want to remove these - but when we do, we no longer expect the degree sequence to exactly match the one that we started from. Usually, this trade-off is worth making - but it can vary from situation to situation."
   ]
  },
  {
   "cell_type": "code",
   "execution_count": null,
   "id": "212afeea",
   "metadata": {},
   "outputs": [],
   "source": [
    "# get rid of self-loops and multiple edges\n",
    "simple_config_model_graph = nx.Graph(config_model_graph)\n",
    "simple_config_model_graph.remove_edges_from(nx.selfloop_edges(simple_config_model_graph))"
   ]
  },
  {
   "cell_type": "markdown",
   "id": "6219f1e5",
   "metadata": {},
   "source": [
    "Let's check to see if the degree sequence has changed:"
   ]
  },
  {
   "cell_type": "code",
   "execution_count": null,
   "id": "80dd4030",
   "metadata": {},
   "outputs": [],
   "source": [
    "simple_config_model_degree_list = get_degree_list(simple_config_model_graph)\n",
    "cur_network_degrees == simple_config_model_degree_list"
   ]
  },
  {
   "cell_type": "markdown",
   "id": "cc07c982",
   "metadata": {},
   "source": [
    "As we expected, it no longer perfectly agrees.\n",
    "\n",
    "Let's visualize how different the degree distribution is"
   ]
  },
  {
   "cell_type": "code",
   "execution_count": null,
   "id": "23d7b6f5",
   "metadata": {},
   "outputs": [],
   "source": [
    "compare_degree_lists('observed', cur_network_degrees, 'config model simplified', simple_config_model_degree_list)"
   ]
  },
  {
   "cell_type": "markdown",
   "id": "5aca53d9",
   "metadata": {},
   "source": [
    "The two distributions are no longer identical, but they are very similar - much closer than the Poisson distribution produced by the ER model."
   ]
  },
  {
   "cell_type": "markdown",
   "id": "e7986eab",
   "metadata": {},
   "source": [
    "### Other properties of the configuration model"
   ]
  },
  {
   "cell_type": "markdown",
   "id": "b34870c5",
   "metadata": {},
   "source": [
    "It seems very appealing that the configuration model can (more or less) replicate an observed degree sequence.\n",
    "\n",
    "But, of course, we care about other properties of a network, too. Now, we will investigate a few possible properties to see if the configuration model seems to be able to capture them..."
   ]
  },
  {
   "cell_type": "markdown",
   "id": "a3a52005",
   "metadata": {},
   "source": [
    "#### Clustering coefficient"
   ]
  },
  {
   "cell_type": "markdown",
   "id": "d0a5fc6f",
   "metadata": {},
   "source": [
    "Let's look at the clustering coefficient in the observed network"
   ]
  },
  {
   "cell_type": "code",
   "execution_count": null,
   "id": "a64b69d0",
   "metadata": {},
   "outputs": [],
   "source": [
    "nx.average_clustering(cur_network)"
   ]
  },
  {
   "cell_type": "markdown",
   "id": "351d8649",
   "metadata": {},
   "source": [
    "And the same quantity in the network drawn from the configuration model "
   ]
  },
  {
   "cell_type": "code",
   "execution_count": null,
   "id": "ae62624f",
   "metadata": {},
   "outputs": [],
   "source": [
    "nx.average_clustering(simple_config_model_graph)"
   ]
  },
  {
   "cell_type": "markdown",
   "id": "3f7e86f0",
   "metadata": {},
   "source": [
    "That seems fairly different. But this is just from one realization of the configuration model. Let's see what the distribution is across many realizations from the model (all with degree sequences that match the observed network)"
   ]
  },
  {
   "cell_type": "code",
   "execution_count": null,
   "id": "2bbeffaf",
   "metadata": {},
   "outputs": [],
   "source": [
    "cc_res = make_array()\n",
    "\n",
    "for i in range(500):\n",
    "    cur_rand_config_model_graph = nx.configuration_model(cur_network_degrees)\n",
    "    # simplify the graph by removing multi-edges and self loops\n",
    "    cur_rand_config_model_graph = nx.Graph(cur_rand_config_model_graph)\n",
    "    cur_rand_config_model_graph.remove_edges_from(nx.selfloop_edges(cur_rand_config_model_graph))\n",
    "    cc_res = np.append(cc_res, nx.average_clustering(cur_rand_config_model_graph))\n",
    "    \n",
    "Table().with_column('config model CC', cc_res).hist()"
   ]
  },
  {
   "cell_type": "markdown",
   "id": "8095c543",
   "metadata": {},
   "source": [
    "Interesting. It looks like the configuration model **did not** capture the clustering that was present in the original network (see the Appendix to optionally read a little more)."
   ]
  },
  {
   "cell_type": "markdown",
   "id": "e4fea79f",
   "metadata": {},
   "source": [
    "#### Degree assortativity"
   ]
  },
  {
   "cell_type": "markdown",
   "id": "b0d07669",
   "metadata": {},
   "source": [
    "Just to illustrate how the configuration model can be useful as a *null model*, let us investigate whether or not we find evidence of homophily by degree in the observed network. Homophily by degree - that is, a tendency for nodes with similar numbers of connections to be connected to each other - is often observed in real social networks. Some researchers call this phenomenon *degree assortativity*."
   ]
  },
  {
   "cell_type": "markdown",
   "id": "92e40d5d",
   "metadata": {},
   "source": [
    "Let's look at the degree assortativity coefficient in the observed network"
   ]
  },
  {
   "cell_type": "code",
   "execution_count": null,
   "id": "6f6e2220",
   "metadata": {},
   "outputs": [],
   "source": [
    "nx.degree_assortativity_coefficient(cur_network)"
   ]
  },
  {
   "cell_type": "markdown",
   "id": "3f37f0af",
   "metadata": {},
   "source": [
    "This has the same interpretation as the assortativity coefficient we saw earlier in the semester, so this value suggests that there may be degree assortativity in the Add Health network."
   ]
  },
  {
   "cell_type": "markdown",
   "id": "3155f93f",
   "metadata": {},
   "source": [
    "Let's compare to the same quantity calculated in a network drawn from the configuration model "
   ]
  },
  {
   "cell_type": "code",
   "execution_count": null,
   "id": "44529b72",
   "metadata": {},
   "outputs": [],
   "source": [
    "nx.degree_assortativity_coefficient(simple_config_model_graph)"
   ]
  },
  {
   "cell_type": "markdown",
   "id": "3f808d80",
   "metadata": {},
   "source": [
    "That seems fairly different. But this is just from one realization of the configuration model. Let's see what the distribution is across many realizations from the model (all with degree sequences that match the observed network)"
   ]
  },
  {
   "cell_type": "code",
   "execution_count": null,
   "id": "8bb7264a",
   "metadata": {},
   "outputs": [],
   "source": [
    "res = make_array()\n",
    "\n",
    "for i in range(500):\n",
    "    cur_rand_config_model_graph = nx.configuration_model(cur_network_degrees)\n",
    "    res = np.append(res, nx.degree_assortativity_coefficient(cur_rand_config_model_graph))\n",
    "    \n",
    "Table().with_column('config model deg. assort.', res).hist()"
   ]
  },
  {
   "cell_type": "markdown",
   "id": "e1fc162b",
   "metadata": {},
   "source": [
    "It looks like the null model (i.e., the configuration model) suggests that degree assortativity would be about 0 if connections were formed completely at random, conditional on degree.  \n",
    "So this suggests that, yes: there is some evidence of degree assortativity in the real Add Health network."
   ]
  },
  {
   "cell_type": "markdown",
   "id": "c88741f3",
   "metadata": {},
   "source": [
    "### Summary of configuration model"
   ]
  },
  {
   "cell_type": "markdown",
   "id": "f26a6df5",
   "metadata": {},
   "source": [
    "We started with a real-world network, and we wanted to be able to model that real-world network with some kind of random network model. (This might be useful if we wanted to come up with a null model for a hypothesis test, for example.)\n",
    "\n",
    "We started with the ER model, but found that the degree distribution from the ER model was not a great match for the real world network.\n",
    "\n",
    "So, we turned to the configuration model. A network generated from the configuration model perfectly matched the degree distribution in the real world network. Unfortunately, though, the network produced by the configuration model had self loops and multiple edges.\n",
    "\n",
    "We removed the self loops and multiple edges to produce a network that was 'close' to the one drawn from the configuration model. We saw that this network still had a degree distribution that was very similar to the original Add Health network that we wanted to mimic.\n",
    "\n",
    "We then used the configuration model as a null model to investigate two features of the real Add Health network: the clustering coefficient and the degree assortativity. In both cases, our analysis suggested that the observed, real-world clustering coefficient and degree assortativity were significantly different from what the null model implied."
   ]
  },
  {
   "cell_type": "markdown",
   "id": "9b3af02f",
   "metadata": {},
   "source": [
    "## Appendix"
   ]
  },
  {
   "cell_type": "markdown",
   "id": "9b9ec96e",
   "metadata": {},
   "source": [
    "(This is just in case you are curious - I wouldn't ask about this on a test.)\n",
    "\n",
    "We did not derive this in class, but it turns out that there is an analytical expression for the clustering coefficient in networks drawn from the configuration model. It is\n",
    "\n",
    "$\n",
    "\\begin{aligned}\n",
    "\\text{cc}_{\\text{config}} = \\frac{1}{n} \\frac{ \\left[ <k^2> - <k> \\right]^2}{<k^3>},\n",
    "\\end{aligned}\n",
    "$\n",
    "\n",
    "where $<k>$ is the average degree (a quantity we have also called $\\bar{d}$), $<k^2>$ is the average value of the squared degrees of the nodes in the network, and $<k^3>$ is the average value of the cubed degrees of the nodes in the network.\n",
    "\n",
    "This expression is not as simple as the clustering coefficient we found in ER random networks. Nonetheless, if you inspect the equation, you will see that - like ER random networks - if the size of the network gets big (meaning $n \\to \\infty$), then the clustering coefficient will go to 0. This suggests that, just like the ER network, we should not expect that the configuration network will be able to capture the kind of relatively high clustering coefficients that we see in real-world social networks.\n",
    "\n",
    "\n",
    "(This is derived in Mark Newman's wonderful book, *Networks: An Introduction*, pg 449.)"
   ]
  },
  {
   "cell_type": "code",
   "execution_count": null,
   "id": "673aba3b",
   "metadata": {},
   "outputs": [],
   "source": []
  }
 ],
 "metadata": {
  "kernelspec": {
   "display_name": "Python 3",
   "language": "python",
   "name": "python3"
  },
  "language_info": {
   "codemirror_mode": {
    "name": "ipython",
    "version": 3
   },
   "file_extension": ".py",
   "mimetype": "text/x-python",
   "name": "python",
   "nbconvert_exporter": "python",
   "pygments_lexer": "ipython3",
   "version": "3.7.7"
  }
 },
 "nbformat": 4,
 "nbformat_minor": 5
}
