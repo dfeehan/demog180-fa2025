{
 "cells": [
  {
   "cell_type": "code",
   "execution_count": 1,
   "metadata": {},
   "outputs": [],
   "source": [
    "#from IPython.core.display import HTML\n",
    "from datascience import *\n",
    "import itertools\n",
    "import matplotlib\n",
    "\n",
    "import matplotlib.pyplot as plt\n",
    "import numpy as np\n",
    "import os\n",
    "#plt.style.use('fivethirtyeight')\n",
    "\n",
    "import networkx as nx\n",
    "\n",
    "%matplotlib inline\n",
    "\n",
    "#np.random.seed(99)"
   ]
  },
  {
   "cell_type": "markdown",
   "metadata": {},
   "source": [
    "# Calculating the clustering coefficient"
   ]
  },
  {
   "cell_type": "markdown",
   "metadata": {},
   "source": [
    "In this demo, we are going to calculate the average clustering coefficient of a network. We will start with a small, toy network and then we will move on to analyze a complete network dataset from the [Add Health project](http://www.cpc.unc.edu/projects/addhealth)."
   ]
  },
  {
   "cell_type": "markdown",
   "metadata": {},
   "source": [
    "## Calculating average clustering coefficient by hand"
   ]
  },
  {
   "cell_type": "markdown",
   "metadata": {},
   "source": [
    "Consider the network created by the following code."
   ]
  },
  {
   "cell_type": "code",
   "execution_count": 2,
   "metadata": {},
   "outputs": [
    {
     "data": {
      "image/png": "[encoded data removed]",
      "text/plain": [
       "<Figure size 640x480 with 1 Axes>"
      ]
     },
     "metadata": {},
     "output_type": "display_data"
    }
   ],
   "source": [
    "ex_network = nx.Graph([(1,3), (2,3), (1,2), (3,4), (5,6), (7,8)])\n",
    "ex_network.add_node(9)\n",
    "nx.draw_circular(ex_network, with_labels=True, font_color='white')"
   ]
  },
  {
   "cell_type": "markdown",
   "metadata": {},
   "source": [
    "\n",
    "**For each node in the above graph, let'scalculate the following things:**\n",
    "* Degree of the node, \n",
    "* Number of pairs of neighbors of the node,\n",
    "* Number of the pairs of neighbors that are directly connected with each other\n",
    "\n",
    "We'll write down the answer as a table with the following four columns:\n",
    "1) NodeId, 2) Degree of the node, 3) Number of pairs of neighbors, 4) Number of the pairs of the neighbors that are directly connected\n",
    "\n",
    "*Hint: Remember that the number of pairs of neighbors of the node refers to the number of possible connections between a node's neighbors. For example, node 3 is connected to 1, 2, and 4 so there's three possible connections: (1,2) (1,4) (2,4)*"
   ]
  },
  {
   "cell_type": "markdown",
   "metadata": {},
   "source": [
    "| Node ID | Degree | # pairs nbrs | # pairs nbrs connected |\n",
    "| ---     | ---    | ---          | ---                    |\n",
    "|  1      |  ?     |  ?           |  ?                     |\n",
    "|  2      |  ?     |  ?           |  ?                     |\n",
    "|  3      |  ?     |  ?           |  ?                     |\n",
    "|  4      |  ?     |  ?           |  ?                     |\n",
    "|  5      |  ?     |  ?           |  ?                     |\n",
    "|  6      |  ?     |  ?           |  ?                     |\n",
    "|  7      |  ?     |  ?           |  ?                     |\n",
    "|  8      |  ?     |  ?           |  ?                     |\n",
    "|  9      |  ?     |  ?           |  ?                     |\n"
   ]
  },
  {
   "cell_type": "markdown",
   "metadata": {},
   "source": [
    "Recall that the **clustering coefficient** of a node is the proportion of the pairs of the neighbors that are connected to each other; in other words, it quantifies the extent to which a node's friends are friends with one another.\n",
    "\n",
    "For each node in the above mentiond graph, let's calculate the clustering coefficient:\n",
    "\n",
    "| Node ID | Clustering coefficient |\n",
    "| ---     | ---    |\n",
    "|  1      |  ?     |\n",
    "|  2      |  ?     |\n",
    "|  3      |  ?     |\n",
    "|  4      |  ?     |\n",
    "|  5      |  ?     |\n",
    "|  6      |  ?     |\n",
    "|  7      |  ?     |\n",
    "|  8      |  ?     |\n",
    "|  9      |  ?     |\n"
   ]
  },
  {
   "cell_type": "code",
   "execution_count": null,
   "metadata": {},
   "outputs": [],
   "source": [
    "clustering_coef = (1+1+0.333+0+0+0+0+0+0)/9 \n",
    "clustering_coef"
   ]
  },
  {
   "cell_type": "markdown",
   "metadata": {},
   "source": [
    "### Calculating the average clustering coefficient using the `networkx` package\n",
    "\n",
    "The `networkx` library provides a function, `average_clustering`, that can be used to calculate the average clustering coefficient of a graph. Use the `average_clustering` method to calculate the average clustering coefficient of the above graph.  \n",
    "\n",
    "The average clustering coefficient calculated by this function should be the same with your answer calculated by hand."
   ]
  },
  {
   "cell_type": "code",
   "execution_count": null,
   "metadata": {},
   "outputs": [],
   "source": [
    "nx.average_clustering(ex_network)"
   ]
  },
  {
   "cell_type": "markdown",
   "metadata": {},
   "source": [
    "## Clustering coefficients in real world Add Health networks"
   ]
  },
  {
   "cell_type": "markdown",
   "metadata": {},
   "source": [
    "Now let's calculate the average clustering coefficient for real world networks from the Add Health study.\n",
    "\n",
    "To start, this function will be helpful: it reads the data in for a single Add Health network."
   ]
  },
  {
   "cell_type": "code",
   "execution_count": null,
   "metadata": {},
   "outputs": [],
   "source": [
    "def read_add_health_network(network_id):\n",
    "    \"\"\"\n",
    "    network_id : integer from 1 to 84\n",
    "    \n",
    "    read in the Add Health network corresponding to the given id number and\n",
    "    return it as an undirected networkx object\n",
    "    \"\"\"\n",
    "\n",
    "    # this file was downloaded from\n",
    "    # http://moreno.ss.uci.edu/data.html#adhealth\n",
    "    edge_file = os.path.join(\"data\", \"comm\" + str(network_id) + \".dat\")\n",
    "    with open(edge_file, 'r') as f:\n",
    "        edge_lines = f.readlines()\n",
    "        \n",
    "    network = nx.parse_edgelist(edge_lines, nodetype=int, data=[('activity_level', float)])\n",
    "    \n",
    "    # note that we call the to_undirected method to ensure we get an undirected network\n",
    "    return(network.to_undirected())"
   ]
  },
  {
   "cell_type": "markdown",
   "metadata": {},
   "source": [
    "Now let's use this function to actually read in all 84 of the Add Health school networks:"
   ]
  },
  {
   "cell_type": "code",
   "execution_count": null,
   "metadata": {},
   "outputs": [],
   "source": [
    "number_add_health_networks = 84\n",
    "add_health_networks = [read_add_health_network(x) for x in range(1,number_add_health_networks+1)]\n",
    "# Running this cell will take a few seconds\n",
    "# now add_health_networks is an object containing 84 networks"
   ]
  },
  {
   "cell_type": "markdown",
   "metadata": {},
   "source": [
    "Let's calculate the average clustering coefficient for **the first network** in the Add Health study."
   ]
  },
  {
   "cell_type": "code",
   "execution_count": null,
   "metadata": {},
   "outputs": [],
   "source": [
    "g = add_health_networks[0] # get the network at the first index\n",
    "cc_nx = nx.average_clustering(g)\n",
    "print ('Average clustering coefficient calculated by the networkx library', cc_nx)"
   ]
  },
  {
   "cell_type": "markdown",
   "metadata": {},
   "source": [
    "# Calculating clustering coefficient for all of the Add Health networks"
   ]
  },
  {
   "cell_type": "markdown",
   "metadata": {},
   "source": [
    "Now let's calculate the clustering coefficient for each network, making a `Table` with the results:"
   ]
  },
  {
   "cell_type": "code",
   "execution_count": null,
   "metadata": {},
   "outputs": [],
   "source": [
    "cc_ah = make_array()\n",
    "\n",
    "for g in add_health_networks:\n",
    "    cc_ah = np.append(cc_ah, nx.average_clustering(g)) # np.append will append the new results to the end of original array\n",
    "                                                # np.append(the original array, the new element), check np.append? for more info\n",
    "                                                # we want to make an array of all the clustering coefficients for all the 84 networks\n",
    "\n",
    "add_health_df = Table().with_columns([  # here we want to make a table for these coefficients\n",
    "     'id', np.arange(1, number_add_health_networks+1), # the first column has the ids of the nodes\n",
    "     'clustering_coeff', cc_ah                         # the second column has the clustering coefficient\n",
    "    ])\n",
    "\n",
    "add_health_df"
   ]
  },
  {
   "cell_type": "markdown",
   "metadata": {},
   "source": [
    "Finally, let's visualize these results.  We might wonder how much the clustering coefficient changes from community to community. What do the results show?"
   ]
  },
  {
   "cell_type": "code",
   "execution_count": null,
   "metadata": {
    "scrolled": true
   },
   "outputs": [],
   "source": [
    "add_health_df.hist('clustering_coeff' )"
   ]
  },
  {
   "cell_type": "markdown",
   "metadata": {},
   "source": [
    "### Answers to by hand questions at the top of the demo"
   ]
  },
  {
   "cell_type": "markdown",
   "metadata": {},
   "source": [
    "```\n",
    " Columns: NodeId, Degree of the node, Number of pairs of neighbors, Number of the pairs of the neighbors that are directly connected\n",
    " \n",
    " 1,2,1,1\n",
    " 2,2,1,1\n",
    " 3,3,3,1 \n",
    " 4,1,0,0\n",
    " 5,1,0,0\n",
    " 6,1,0,0\n",
    " 7,1,0,0\n",
    " 8,1,0,0\n",
    " 9,0,0,0\n",
    "```"
   ]
  },
  {
   "cell_type": "markdown",
   "metadata": {},
   "source": [
    "```\n",
    " Columns: NodeId, Clustering Coefficient\n",
    " 1,1\n",
    " 2,1\n",
    " 3,0.333\n",
    " 4,0\n",
    " 5,0\n",
    " 6,0\n",
    " 7,0\n",
    " 8,0\n",
    " 9,0\n",
    "```"
   ]
  },
  {
   "cell_type": "code",
   "execution_count": null,
   "metadata": {},
   "outputs": [],
   "source": []
  }
 ],
 "metadata": {
  "anaconda-cloud": {},
  "kernelspec": {
   "display_name": "Python 3",
   "language": "python",
   "name": "python3"
  },
  "language_info": {
   "codemirror_mode": {
    "name": "ipython",
    "version": 3
   },
   "file_extension": ".py",
   "mimetype": "text/x-python",
   "name": "python",
   "nbconvert_exporter": "python",
   "pygments_lexer": "ipython3",
   "version": "3.7.7"
  }
 },
 "nbformat": 4,
 "nbformat_minor": 4
}
