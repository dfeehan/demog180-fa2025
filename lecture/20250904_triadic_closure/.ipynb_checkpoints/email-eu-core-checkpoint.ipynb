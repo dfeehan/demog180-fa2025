{
 "cells": [
  {
   "cell_type": "code",
   "execution_count": null,
   "metadata": {},
   "outputs": [],
   "source": [
    "from IPython.core.display import HTML\n",
    "from datascience import *\n",
    "\n",
    "import matplotlib\n",
    "matplotlib.use('Agg')\n",
    "%matplotlib inline\n",
    "import matplotlib.pyplot as plt\n",
    "import numpy as np\n",
    "plt.style.use('fivethirtyeight')\n",
    "\n",
    "import os\n",
    "import pandas as pd\n",
    "import networkx as nx"
   ]
  },
  {
   "cell_type": "markdown",
   "metadata": {},
   "source": [
    "## Triadic closure in an email network"
   ]
  },
  {
   "cell_type": "markdown",
   "metadata": {},
   "source": [
    "In this notebook, we'll examine an email network from a 'large European research institution.' The dataset comes from the SNAP archive; [this page](https://snap.stanford.edu/data/email-Eu-core-temporal.html) has more information. \n",
    "Some key details, copied from that page:\n",
    "\n",
    "> The network was generated using email data from a large European research institution. We have anonymized information about all incoming and outgoing email between members of the research institution. The e-mails only represent communication between institution members (the core), and the dataset does not contain incoming messages from or outgoing messages to the rest of the world. A directed edge (u, v, t) means that person u sent an e-mail to person v at time t. A separate edge is created for each recipient of the e-mail. We also have four sub-networks corresponding to the communication between members of four different departments at the institution. Node IDs in the sub-networks do not correspond to the same node ID in the entire network.\n",
    "\n",
    "\n",
    "The data were originally published in the paper: \n",
    "\n",
    "> Ashwin Paranjape, Austin R. Benson, and Jure Leskovec. \"Motifs in Temporal Networks.\" In Proceedings of the Tenth ACM International Conference on Web Search and Data Mining, 2017. "
   ]
  },
  {
   "cell_type": "markdown",
   "metadata": {},
   "source": [
    "Each edge in the network is an email from one person to another, and each email has a timestamp. So the network has information about the time that each edge was created. In this demo, we'll use this time information to try to find evidence for triadic closure. The general approach will be to divide the time covered in the dataset into two periods: the first and second half."
   ]
  },
  {
   "cell_type": "markdown",
   "metadata": {},
   "source": [
    "### Load the data"
   ]
  },
  {
   "cell_type": "code",
   "execution_count": null,
   "metadata": {},
   "outputs": [],
   "source": [
    "data_url = \"https://snap.stanford.edu/data/email-Eu-core-temporal.txt.gz\"\n",
    "#data_url = os.path.expanduser(os.path.join(\"~\", \"Dropbox\", \"data-explore\", \"email-eu-core\", \"email-Eu-core-temporal.txt.gz\"))"
   ]
  },
  {
   "cell_type": "code",
   "execution_count": null,
   "metadata": {},
   "outputs": [],
   "source": [
    "%%time\n",
    "raw_data = pd.read_csv(data_url, sep=\" \", header=None)"
   ]
  },
  {
   "cell_type": "code",
   "execution_count": null,
   "metadata": {},
   "outputs": [],
   "source": [
    "raw_data.head()"
   ]
  },
  {
   "cell_type": "markdown",
   "metadata": {},
   "source": [
    "Let's rename the columns based on the [dataset description](https://snap.stanford.edu/data/email-Eu-core-temporal.html)."
   ]
  },
  {
   "cell_type": "code",
   "execution_count": null,
   "metadata": {},
   "outputs": [],
   "source": [
    "# rename the columns\n",
    "raw_data = raw_data.rename(index=str, columns={0 : \"from\", 1 : \"to\", 2 : \"time\"})\n",
    "raw_data.head()"
   ]
  },
  {
   "cell_type": "markdown",
   "metadata": {},
   "source": [
    "It looks like time starts and 0 and goes up"
   ]
  },
  {
   "cell_type": "code",
   "execution_count": null,
   "metadata": {},
   "outputs": [],
   "source": [
    "raw_data['time'].describe()"
   ]
  },
  {
   "cell_type": "markdown",
   "metadata": {},
   "source": [
    "Let's get the halfway time"
   ]
  },
  {
   "cell_type": "code",
   "execution_count": null,
   "metadata": {},
   "outputs": [],
   "source": [
    "t_half = np.median(raw_data['time'])\n",
    "t_half"
   ]
  },
  {
   "cell_type": "markdown",
   "metadata": {},
   "source": [
    "Now create a directed, non-simple network object from the dataset"
   ]
  },
  {
   "cell_type": "code",
   "execution_count": null,
   "metadata": {},
   "outputs": [],
   "source": [
    "%%time\n",
    "\n",
    "# create a network from the message logs\n",
    "raw_net = nx.from_pandas_edgelist(raw_data, \n",
    "                                   source='from', \n",
    "                                   target='to', \n",
    "                                   edge_attr=['time'], \n",
    "                                   create_using=nx.MultiDiGraph())"
   ]
  },
  {
   "cell_type": "markdown",
   "metadata": {},
   "source": [
    "This function will be helpful for creating a simple, undirected network from the directed, non-simple network. We'll do this by only keeping edges that are reciprocated. We'll keep track of how many emails were exchanged between each pair of connected nodes, and this will be the edge weight.\n",
    "\n",
    "Optionally, we can specify `time_cutoff`; if this is specified, we'll only keep edges whose timestamp is <= the cutoff."
   ]
  },
  {
   "cell_type": "code",
   "execution_count": null,
   "metadata": {},
   "outputs": [],
   "source": [
    "def to_undirected_weighted(g, time_cutoff = None):\n",
    "    \n",
    "    # filter out directed edges between nodes where connection is reciprocated\n",
    "    # (and also self-loops, if there are any)\n",
    "    if time_cutoff is not None:\n",
    "        di_edges_recip = [(u,v,d) for (u,v,d) in g.edges(data=True) if (v,u) in g.edges() and v != u and d['time'] <= time_cutoff]\n",
    "    else:\n",
    "        di_edges_recip = [(u,v,d) for (u,v,d) in g.edges if (v,u) in g.edges() and v != u]\n",
    "        \n",
    "    print(\"there are \", len(di_edges_recip), \" reciprocated edges in the original network.\")\n",
    "    \n",
    "    # now create an undirected network with edges weighted by the number of interactions\n",
    "    new_net = nx.Graph()\n",
    "    for edge in di_edges_recip:\n",
    "        # if the edge is already in the network, add one to its weight\n",
    "        if (edge[0], edge[1]) in new_net.edges:\n",
    "            new_net[edge[0]][edge[1]]['weight'] = new_net[edge[0]][edge[1]]['weight'] + 1\n",
    "        # otherwise, add it\n",
    "        else:\n",
    "            new_net.add_edge(edge[0], edge[1], weight=1)\n",
    "\n",
    "    print(\"undirected net, # nodes: \", new_net.number_of_nodes())\n",
    "    print(\"undirected net, avg degree: \", 2*new_net.number_of_edges()/new_net.number_of_nodes())\n",
    "    \n",
    "    return(new_net)"
   ]
  },
  {
   "cell_type": "markdown",
   "metadata": {},
   "source": [
    "Using the function above, create an undirected version of the entire network (i.e., the network at the end of time):"
   ]
  },
  {
   "cell_type": "code",
   "execution_count": null,
   "metadata": {},
   "outputs": [],
   "source": [
    "%%time \n",
    "\n",
    "t1_net = to_undirected_weighted(raw_net)"
   ]
  },
  {
   "cell_type": "markdown",
   "metadata": {},
   "source": [
    "And create a second network that has only emails sent before the halfway point:"
   ]
  },
  {
   "cell_type": "code",
   "execution_count": null,
   "metadata": {},
   "outputs": [],
   "source": [
    "%%time \n",
    "\n",
    "t0_net = to_undirected_weighted(raw_net, time_cutoff = t_half)"
   ]
  },
  {
   "cell_type": "markdown",
   "metadata": {},
   "source": [
    "## Looking for evidence of triadic closure"
   ]
  },
  {
   "cell_type": "markdown",
   "metadata": {},
   "source": [
    "Now we have an undirected version of the network at time 0, and at time 1. Let's see if we can find evidence of triadic closure.\n",
    "\n",
    "The general idea is to\n",
    "\n",
    "* find all pairs of nodes that are *not* connected by an edge at the end of the first time period\n",
    "* count the number of mutual neighbors they have. (If they have at least one mutual neighbor, they form an unclosed triad)\n",
    "* store the results in a dataframe"
   ]
  },
  {
   "cell_type": "markdown",
   "metadata": {},
   "source": [
    "(This takes about 10 seconds to run)"
   ]
  },
  {
   "cell_type": "code",
   "execution_count": null,
   "metadata": {},
   "outputs": [],
   "source": [
    "%%time\n",
    "\n",
    "# this dictionary will keep track of\n",
    "# the num common neighbors between pairs of unlinked nodes\n",
    "# it will map a frozenset with two unconnected nodes to the\n",
    "# number of common neighbors of the two nodes\n",
    "unlinked_node_ncn = {}\n",
    "\n",
    "from itertools import combinations\n",
    "\n",
    "# go through all pairs of nodes in the network\n",
    "for u,v in combinations(t0_net.nodes, 2):\n",
    "    cur_key = frozenset([u,v])\n",
    "    \n",
    "    # ignore self-loops\n",
    "    if u == v:\n",
    "        next\n",
    "    # ignore edges that already exist\n",
    "    if (u,v) in t0_net.edges:\n",
    "        next\n",
    "        \n",
    "    # and skip this pair if we've already calculated the number\n",
    "    # of shared neighbors they have\n",
    "    if cur_key in unlinked_node_ncn:\n",
    "        next\n",
    "    \n",
    "    # get the number of common neighbors, and store it in the dict\n",
    "    num_common_nbrs = len([x for x in nx.common_neighbors(t0_net, u, v)])\n",
    "    unlinked_node_ncn[cur_key] = num_common_nbrs\n",
    "    "
   ]
  },
  {
   "cell_type": "markdown",
   "metadata": {},
   "source": [
    "There are almost 240,000 pairs of nodes not joined by an edge at the end of the first time period."
   ]
  },
  {
   "cell_type": "code",
   "execution_count": null,
   "metadata": {},
   "outputs": [],
   "source": [
    "len(unlinked_node_ncn.keys())"
   ]
  },
  {
   "cell_type": "markdown",
   "metadata": {},
   "source": [
    "Let's turn the dictionary we constructed into something easier to work with -- a dataframe"
   ]
  },
  {
   "cell_type": "code",
   "execution_count": null,
   "metadata": {},
   "outputs": [],
   "source": [
    "node_pairs = pd.DataFrame.from_dict(unlinked_node_ncn, orient='index', columns=['num_common_nbrs'])\n",
    "node_pairs.index.name = 'node_pair'\n",
    "node_pairs = node_pairs.reset_index()\n",
    "node_pairs"
   ]
  },
  {
   "cell_type": "markdown",
   "metadata": {},
   "source": [
    "Now we want to go through and, for each pair of nodes in our dataframe, check to see whether or not an edge has formed between the two nodes by the end of the second time period.\n",
    "\n",
    "This function will help: given a row in the dataframe, it returns 1 if the two nodes have been linked at the end of the second time period, and 0 otherwise."
   ]
  },
  {
   "cell_type": "code",
   "execution_count": null,
   "metadata": {},
   "outputs": [],
   "source": [
    "def exists_t1(row, net):\n",
    "    u, v = list(row['node_pair'])\n",
    "    if (u,v) in net.edges:\n",
    "        return 1\n",
    "    return 0\n",
    "\n",
    "node_pairs['link_formed'] = node_pairs.apply(exists_t1, axis=1, net=t1_net)"
   ]
  },
  {
   "cell_type": "markdown",
   "metadata": {},
   "source": [
    "Now we've added a column that shows whether or not each pair of nodes was eventually linked."
   ]
  },
  {
   "cell_type": "code",
   "execution_count": null,
   "metadata": {},
   "outputs": [],
   "source": [
    "node_pairs.head()"
   ]
  },
  {
   "cell_type": "markdown",
   "metadata": {},
   "source": [
    "What fraction of possible links was formed? It looks like about 3.5% of them."
   ]
  },
  {
   "cell_type": "code",
   "execution_count": null,
   "metadata": {},
   "outputs": [],
   "source": [
    "np.mean(node_pairs['link_formed'])"
   ]
  },
  {
   "cell_type": "markdown",
   "metadata": {},
   "source": [
    "### Looking for evidence of triadic closure"
   ]
  },
  {
   "cell_type": "markdown",
   "metadata": {},
   "source": [
    "The triadic closure hypothesis says that unconnected nodes that share a common neighbor are more likely to form an edge than unconnected nodes that do not share a common neighbor. \n",
    "\n",
    "Let's see if this seems to be true in this email dataset: we can compare  \n",
    "(i) the probability that a link formed between pairs of nodes with no common neighbor; and   \n",
    "(ii) the probability that a link formed between pairs of nodes with at least one common neighbor."
   ]
  },
  {
   "cell_type": "code",
   "execution_count": null,
   "metadata": {},
   "outputs": [],
   "source": [
    "node_pairs['any_common_nbr'] = node_pairs.apply(lambda x: int(x['num_common_nbrs'] > 0), axis=1)\n",
    "node_pairs"
   ]
  },
  {
   "cell_type": "code",
   "execution_count": null,
   "metadata": {},
   "outputs": [],
   "source": [
    "node_pairs_any_agg = node_pairs.groupby('any_common_nbr').agg({'link_formed' : [np.mean]})\n",
    "node_pairs_any_agg = node_pairs_any_agg.xs('link_formed', axis=1, drop_level=True).reset_index()\n",
    "node_pairs_any_agg"
   ]
  },
  {
   "cell_type": "markdown",
   "metadata": {},
   "source": [
    "This might be easier to see with a plot"
   ]
  },
  {
   "cell_type": "code",
   "execution_count": null,
   "metadata": {},
   "outputs": [],
   "source": [
    "node_pairs_any_agg.plot('any_common_nbr', 'mean', color='royalblue', kind='bar');"
   ]
  },
  {
   "cell_type": "code",
   "execution_count": null,
   "metadata": {},
   "outputs": [],
   "source": [
    "9.6/.3"
   ]
  },
  {
   "cell_type": "markdown",
   "metadata": {},
   "source": [
    "It looks like nodes that have some common neighbor are about 9.6/.3 = 32 times more likely to form a connection than nodes with no common neighbor. This supports the triadic closure hypothesis."
   ]
  },
  {
   "cell_type": "markdown",
   "metadata": {},
   "source": [
    "### Do more common neighbors increase the chances of triadic closure?"
   ]
  },
  {
   "cell_type": "markdown",
   "metadata": {},
   "source": [
    "Next, we'll try to look at the probability that a link formed, as a function of the number of common neighbors."
   ]
  },
  {
   "cell_type": "markdown",
   "metadata": {},
   "source": [
    "Get fraction of links formed by number of common neighbors"
   ]
  },
  {
   "cell_type": "code",
   "execution_count": null,
   "metadata": {},
   "outputs": [],
   "source": [
    "node_pairs_agg = node_pairs.groupby('num_common_nbrs').agg({'link_formed' : [np.mean, np.std, len]})\n",
    "node_pairs_agg = node_pairs_agg.xs('link_formed', axis=1, drop_level=True).reset_index()\n",
    "node_pairs_agg"
   ]
  },
  {
   "cell_type": "markdown",
   "metadata": {},
   "source": [
    "Plotting the results, we can see that it gets noisy at higher values of number of common neighbors, when the sample size presumably gets very small."
   ]
  },
  {
   "cell_type": "code",
   "execution_count": null,
   "metadata": {},
   "outputs": [],
   "source": [
    "node_pairs_agg.plot('num_common_nbrs', 'mean')"
   ]
  },
  {
   "cell_type": "markdown",
   "metadata": {},
   "source": [
    "If we focus on fewer than 25 common neighbors, we start to see evidence of the pattern we're looking for."
   ]
  },
  {
   "cell_type": "code",
   "execution_count": null,
   "metadata": {},
   "outputs": [],
   "source": [
    "node_pairs_agg.plot('num_common_nbrs', 'mean', xlim=(0,25))"
   ]
  },
  {
   "cell_type": "markdown",
   "metadata": {},
   "source": [
    "Let's see if we can make this a bit simpler by categorizing `num_common_nbrs` into a smaller number of bins"
   ]
  },
  {
   "cell_type": "code",
   "execution_count": null,
   "metadata": {},
   "outputs": [],
   "source": [
    "node_pairs['ncn_bins'] = pd.cut(node_pairs['num_common_nbrs'],\n",
    "                                bins=[0,1,2,3,4,5,100],\n",
    "                                labels=['0', '1', '2', '3', '4', '5+'],\n",
    "                                right=False)"
   ]
  },
  {
   "cell_type": "code",
   "execution_count": null,
   "metadata": {},
   "outputs": [],
   "source": [
    "node_pairs_bin_agg = node_pairs.groupby('ncn_bins').agg({'link_formed' : [np.mean, np.std, len]})\n",
    "node_pairs_bin_agg = node_pairs_bin_agg.xs('link_formed', axis=1, drop_level=True).reset_index()\n",
    "node_pairs_bin_agg"
   ]
  },
  {
   "cell_type": "code",
   "execution_count": null,
   "metadata": {},
   "outputs": [],
   "source": [
    "node_pairs_bin_agg.plot('ncn_bins', 'mean', kind='bar', color='royalblue')"
   ]
  },
  {
   "cell_type": "markdown",
   "metadata": {},
   "source": [
    "It looks like the more common neighbors two unlinked nodes have, the more likely it is an edge will form between them."
   ]
  }
 ],
 "metadata": {
  "kernelspec": {
   "display_name": "Python 3",
   "language": "python",
   "name": "python3"
  },
  "language_info": {
   "codemirror_mode": {
    "name": "ipython",
    "version": 3
   },
   "file_extension": ".py",
   "mimetype": "text/x-python",
   "name": "python",
   "nbconvert_exporter": "python",
   "pygments_lexer": "ipython3",
   "version": "3.7.7"
  }
 },
 "nbformat": 4,
 "nbformat_minor": 2
}
