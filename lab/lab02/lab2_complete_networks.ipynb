{
 "cells": [
  {
   "cell_type": "code",
   "execution_count": null,
   "id": "670df8fd",
   "metadata": {
    "deletable": false,
    "editable": false
   },
   "outputs": [],
   "source": [
    "# Initialize Otter\n",
    "import otter\n",
    "grader = otter.Notebook(\"lab2_complete_networks.ipynb\")"
   ]
  },
  {
   "cell_type": "code",
   "execution_count": null,
   "id": "abaad0bd",
   "metadata": {},
   "outputs": [],
   "source": [
    "!pip install --upgrade networkx"
   ]
  },
  {
   "cell_type": "code",
   "execution_count": null,
   "id": "a247c901",
   "metadata": {},
   "outputs": [],
   "source": [
    "!pip install scipy"
   ]
  },
  {
   "cell_type": "code",
   "execution_count": null,
   "id": "f0ab4c29",
   "metadata": {},
   "outputs": [],
   "source": [
    "from IPython.core.display import HTML\n",
    "from datascience import *\n",
    "\n",
    "import matplotlib\n",
    "matplotlib.use('Agg')\n",
    "import matplotlib.pyplot as plt\n",
    "import numpy as np\n",
    "import os\n",
    "import networkx as nx\n",
    "plt.style.use('fivethirtyeight')\n",
    "\n",
    "%matplotlib inline"
   ]
  },
  {
   "cell_type": "markdown",
   "id": "b1c3c97c",
   "metadata": {},
   "source": [
    "# Lab 2: Complete Networks"
   ]
  },
  {
   "cell_type": "markdown",
   "id": "1f7318b9",
   "metadata": {},
   "source": [
    "Today, we will work with complete network data, meaning data on an entire population of individuals and all of the connections between them. I'll refer to this as the *complete network perspective*. The complete network perspective can be very useful, since it enables us to study how the actual structure of the network can affect important outcomes like the spread of a disease, information about job openings, and even social status.\n",
    "\n",
    "For almost any social network we study, we are interested in understanding the structure of the complete network. Unfortunately, it is typically extremely difficult to obtain complete network data. Most studies that have done so have put a tremendous amount of time, effort and resources into data collection.  Any time we analyze data---including complete network data---we have to bear in mind the strengths and limitations of the way that the data were collected."
   ]
  },
  {
   "cell_type": "markdown",
   "id": "5f7004a5",
   "metadata": {},
   "source": [
    "### The Add Health Study"
   ]
  },
  {
   "cell_type": "markdown",
   "id": "228bfe42",
   "metadata": {},
   "source": [
    "For our first complete network dataset, we're going to be looking at data from a study called [Add Health](http://www.cpc.unc.edu/projects/addhealth). Here is a description of the study, taken from the front page of the [Add Health website](http://www.cpc.unc.edu/projects/addhealth):\n",
    "\n",
    "<blockquote>\n",
    "The National Longitudinal Study of Adolescent to Adult Health (Add Health) is a longitudinal study of a nationally representative sample of adolescents in grades 7-12 in the United States during the 1994-95 school year. The Add Health cohort has been followed into young adulthood with four in-home interviews, the most recent in 2008, when the sample was aged 24-32. Add Health is re-interviewing cohort members in a Wave V follow-up from 2016-2018 to collect social, environmental, behavioral, and biological data with which to track the emergence of chronic disease as the cohort moves through their fourth decade of life.\n",
    "<BR><BR>\n",
    "Add Health combines longitudinal survey data on respondents’ social, economic, psychological and physical well-being with contextual data on the family, neighborhood, community, school, friendships, peer groups, and romantic relationships, providing unique opportunities to study how social environments and behaviors in adolescence are linked to health and achievement outcomes in young adulthood. The fourth wave of interviews expanded the collection of biological data in Add Health to understand the social, behavioral, and biological linkages in health trajectories as the Add Health cohort ages through adulthood, and the fifth wave of data collection continues this biological data expansion.\n",
    "</blockquote>"
   ]
  },
  {
   "cell_type": "markdown",
   "id": "af253f14",
   "metadata": {},
   "source": [
    "Here are some terms from that description that might not be familiar to you:\n",
    "\n",
    "* `longitudinal` - logitudinal studies follow people over time, instead of just interviewing people at one point in time\n",
    "* `cohort` - a group of people that is followed over time; for Add Health, the cohort is the group of people who were interviewed as 7-12th graders in 1994-95.\n",
    "* `nationally representative` - the participants in the study were chosen in a principled way that enables researchers to make inferences about the US population from the small number of people they interview"
   ]
  },
  {
   "cell_type": "markdown",
   "id": "170d8581",
   "metadata": {},
   "source": [
    "Add Health interviewed adolescents in many different schools that were randomly sampled from all over the US. We're going to work with the data from the friendship network of students in just one of those schools today."
   ]
  },
  {
   "cell_type": "markdown",
   "id": "bc215f3c",
   "metadata": {},
   "source": [
    "Now that we have some background, we'll need to talk a bit about some of the technical details that go into working with complete network data."
   ]
  },
  {
   "cell_type": "markdown",
   "id": "5c3816ff",
   "metadata": {},
   "source": [
    "# Representing a network in a computer"
   ]
  },
  {
   "cell_type": "markdown",
   "id": "71cb2269",
   "metadata": {
    "deletable": false,
    "editable": false
   },
   "source": [
    "<!-- BEGIN QUESTION -->\n",
    "\n",
    "## Question 1:\n",
    "How can we turn a network -- which we have been thinking of as an abstract concept -- into something concrete that we can store and manipulate in a computer? What information do we need to be able to describe everything about a network? What are the advantages and disadvantages of the different solutions you can think of?"
   ]
  },
  {
   "cell_type": "markdown",
   "id": "93ab47ca",
   "metadata": {},
   "source": [
    "_Type your answer here, replacing this text._"
   ]
  },
  {
   "cell_type": "markdown",
   "id": "96806629",
   "metadata": {
    "deletable": false,
    "editable": false
   },
   "source": [
    "<!-- END QUESTION -->\n",
    "\n",
    "### Loading a complete network"
   ]
  },
  {
   "cell_type": "markdown",
   "id": "c203c615",
   "metadata": {},
   "source": [
    "We will be exploring friendships from an American school; the data can be found at [http://moreno.ss.uci.edu/data.html#adhealth](http://moreno.ss.uci.edu/data.html#adhealth)."
   ]
  },
  {
   "cell_type": "markdown",
   "id": "6671e5d3",
   "metadata": {},
   "source": [
    "The data are in [UCI format](https://gephi.org/users/supported-graph-formats/ucinet-dl-format/). [UCI](https://sites.google.com/site/ucinetsoftware/home) is a tool that can be used to perform all sorts of network analysis. We won't be using UCI in this class, but you might come across it in future classes. For now, we're interested in some of the data that are included with UCI. These UCI datasets contain edge lists which the Python package `networkx` can read in."
   ]
  },
  {
   "cell_type": "markdown",
   "id": "e5c0a10a",
   "metadata": {},
   "source": [
    "The code below opens up the data file, but just reads it as lines of text (instead of interpreting the lines of text as a description of a network).<BR>\n",
    "\n",
    "Run the code chunk below, and take a look at its output."
   ]
  },
  {
   "cell_type": "code",
   "execution_count": null,
   "id": "22702a06",
   "metadata": {},
   "outputs": [],
   "source": [
    "os.getcwd()"
   ]
  },
  {
   "cell_type": "code",
   "execution_count": null,
   "id": "61bba148",
   "metadata": {},
   "outputs": [],
   "source": [
    "# this file was downloaded from\n",
    "# http://moreno.ss.uci.edu/data.html#adhealth\n",
    "edge_file = os.path.join(\"data\", \"comm1.dat\")\n",
    "with open(edge_file, 'r') as f:\n",
    "    edge_lines = f.readlines()"
   ]
  },
  {
   "cell_type": "code",
   "execution_count": null,
   "id": "6d49d425",
   "metadata": {},
   "outputs": [],
   "source": [
    "edge_lines"
   ]
  },
  {
   "cell_type": "markdown",
   "id": "42a8bc89",
   "metadata": {},
   "source": [
    "Note that it looks like there are 4 extraneous lines at the top of the file before the edge list starts. Fortunately, the `networkx` package is smart enough to skip these four lines. "
   ]
  },
  {
   "cell_type": "markdown",
   "id": "11673e95",
   "metadata": {},
   "source": [
    "Each line of the dataset has three numbers on it. The first two numbers are the nodes representing the end point of the respective edges, while the third number indicates the edge of each weight.\n",
    "*[Hint: In order to understand how the data are formatted, read the \"Description\" section of the [website](http://moreno.ss.uci.edu/data.html#adhealth) where the data can be downloaded.]*\n",
    "\n"
   ]
  },
  {
   "cell_type": "markdown",
   "id": "49e6703b",
   "metadata": {},
   "source": [
    "In order to convert the edgelist contained in the datafile into a `networkx` object, we use the `nx.parse_edgelist` function:"
   ]
  },
  {
   "cell_type": "code",
   "execution_count": null,
   "id": "1371ae6d",
   "metadata": {},
   "outputs": [],
   "source": [
    "g = nx.parse_edgelist(edge_lines, nodetype=int, data=[('activity_level', float)])"
   ]
  },
  {
   "cell_type": "markdown",
   "id": "854e2c6b",
   "metadata": {},
   "source": [
    "`g` is now a network object. And we will be working with `g` from now on.\n",
    "\n",
    "You can see some more information about how this function works by looking at the help file:"
   ]
  },
  {
   "cell_type": "code",
   "execution_count": null,
   "id": "432833b1",
   "metadata": {},
   "outputs": [],
   "source": [
    "nx.parse_edgelist?"
   ]
  },
  {
   "cell_type": "markdown",
   "id": "3d817506",
   "metadata": {},
   "source": [
    "In addition to the lines from the datafile, we also passed a couple other arguments to the `parse_edgelist` function. They are:\n",
    "\n",
    "* `nodetype` - specifies the Python type used to represent each node. We have integer ids, so we use `int` here\n",
    "* `data` - describes any extra information about each edge that is contained in the edge list; in our case, there is a floating point value that describes the amount of interaction an edge represents. See the [data description](http://moreno.ss.uci.edu/data.html#adhealth) and the `parse_edgelist` help file for more information"
   ]
  },
  {
   "cell_type": "markdown",
   "id": "9126049f",
   "metadata": {},
   "source": [
    "Now that we have read our edgelist into a `networkx` object, we can start to investigate this network.\n",
    "\n",
    "For example, we can list the edges in the network:"
   ]
  },
  {
   "cell_type": "code",
   "execution_count": null,
   "id": "6bae99d8",
   "metadata": {
    "scrolled": true
   },
   "outputs": [],
   "source": [
    "g.edges()"
   ]
  },
  {
   "cell_type": "code",
   "execution_count": null,
   "id": "9d7e297d",
   "metadata": {
    "scrolled": true
   },
   "outputs": [],
   "source": [
    "g.edges(data=True)"
   ]
  },
  {
   "cell_type": "markdown",
   "id": "32168700",
   "metadata": {
    "deletable": false,
    "editable": false
   },
   "source": [
    "## Question 2:\n",
    "How many edges are in the network? How many nodes are there?<BR>\n",
    "[*Hint: there are many ways to answer this question. For example, to count the number of nodes, you may find it helpful to look at nodes() method.*]"
   ]
  },
  {
   "cell_type": "code",
   "execution_count": null,
   "id": "c6ed814c",
   "metadata": {
    "tags": []
   },
   "outputs": [],
   "source": [
    "q2_edges = ...\n",
    "\n",
    "print('num edges: ', q2_edges)"
   ]
  },
  {
   "cell_type": "code",
   "execution_count": null,
   "id": "877e730f",
   "metadata": {
    "tags": []
   },
   "outputs": [],
   "source": [
    "q2_nodes = ...\n",
    "\n",
    "print('num nodes: ', q2_nodes)"
   ]
  },
  {
   "cell_type": "code",
   "execution_count": null,
   "id": "ba3196e9",
   "metadata": {
    "deletable": false,
    "editable": false
   },
   "outputs": [],
   "source": [
    "grader.check(\"q2\")"
   ]
  },
  {
   "cell_type": "markdown",
   "id": "1ab9982a",
   "metadata": {},
   "source": [
    "**Drawing graph**"
   ]
  },
  {
   "cell_type": "code",
   "execution_count": null,
   "id": "0adfad05",
   "metadata": {},
   "outputs": [],
   "source": [
    "nx.draw(g, with_labels=True)"
   ]
  },
  {
   "cell_type": "markdown",
   "id": "36f970c3",
   "metadata": {},
   "source": [
    "In order to illustrate a few important concepts, it will be helpful to first investigate a small subset of the network that we just read in.\n",
    "\n",
    "Remember that a network can be represented mathematically as a `graph`. (Note: this is different concept from a plot, or a graphical display of data, which can also be called a graph.) A subset of a graph is called a `subgraph`."
   ]
  },
  {
   "cell_type": "markdown",
   "id": "77b1902e",
   "metadata": {},
   "source": [
    "The `subgraph` function enables us to create a subgraph from a specific set of node ids:"
   ]
  },
  {
   "cell_type": "code",
   "execution_count": null,
   "id": "bdb2cc5b",
   "metadata": {},
   "outputs": [],
   "source": [
    "g_subgraph = nx.subgraph(g, [3, 6, 29, 34, 40]) # pass in the network and a list of nodes"
   ]
  },
  {
   "cell_type": "markdown",
   "id": "df23a9d6",
   "metadata": {},
   "source": [
    "We can get a drawing of this subgraph using the `draw` function:"
   ]
  },
  {
   "cell_type": "code",
   "execution_count": null,
   "id": "8867d5fa",
   "metadata": {},
   "outputs": [],
   "source": [
    "nx.draw(g_subgraph, with_labels=True)"
   ]
  },
  {
   "cell_type": "markdown",
   "id": "6f3e1c1b",
   "metadata": {},
   "source": [
    "We will discuss drawing networks in more detail below."
   ]
  },
  {
   "cell_type": "markdown",
   "id": "ac515d25",
   "metadata": {},
   "source": [
    "### Other representations of the network"
   ]
  },
  {
   "cell_type": "markdown",
   "id": "036e1af4",
   "metadata": {},
   "source": [
    "We discussed how there are different ways to represent a network in a computer. The edge list is very practical because many real networks are quite *sparse*, meaning that they have relatively few edges"
   ]
  },
  {
   "cell_type": "markdown",
   "id": "4f0bbf71",
   "metadata": {},
   "source": [
    "The edge list is a particularly convenient way of storing a description of a network in a file (or in memory) when the network is large and sparse.  Another way to store a network is as an *adjacency matrix*. The *adjacency matrix* is not too practical for large networks because the amount of memory it requires increases quickly with the number of nodes in the network. However, the adjacency matrix turns out to be convenient to work with mathematically, so many formal results rely upon it.\n",
    "<BR>"
   ]
  },
  {
   "cell_type": "markdown",
   "id": "9dcdd65e",
   "metadata": {},
   "source": [
    "Of course, `networkx` will display the edge list and the adjacency matrix representations of the network for you. Call the `edges` method and the `nx.adjacency_matrix` function for subgraph g_subgraph."
   ]
  },
  {
   "cell_type": "code",
   "execution_count": null,
   "id": "c920fcc2",
   "metadata": {},
   "outputs": [],
   "source": [
    "g_subgraph.edges()"
   ]
  },
  {
   "cell_type": "code",
   "execution_count": null,
   "id": "c0b14b9c",
   "metadata": {},
   "outputs": [],
   "source": [
    "nx.adjacency_matrix(g_subgraph)"
   ]
  },
  {
   "cell_type": "markdown",
   "id": "0eae61c7",
   "metadata": {},
   "source": [
    "In order to actually show the contents of the adjacency matrix (since we know, in this case, that it's not too big), we can use the `todense` method:"
   ]
  },
  {
   "cell_type": "code",
   "execution_count": null,
   "id": "43dae5e8",
   "metadata": {},
   "outputs": [],
   "source": [
    "nx.adjacency_matrix(g_subgraph).todense()"
   ]
  },
  {
   "cell_type": "markdown",
   "id": "ebc95f32",
   "metadata": {},
   "source": [
    "There's the matrix -- but, it's a bit hard to interpret it without knowing which node id corresponds to which row and column. If you look at the [help file](https://networkx.github.io/documentation/networkx-1.9/reference/generated/networkx.linalg.graphmatrix.adjacency_matrix.html) for `adjacency_matrix`, you will see that it says that, by default, it orders the rows/columns according to the results of `nodes()`. So we can interpret the matrix above by calling:"
   ]
  },
  {
   "cell_type": "code",
   "execution_count": null,
   "id": "97f58a06",
   "metadata": {},
   "outputs": [],
   "source": [
    "g_subgraph.nodes()"
   ]
  },
  {
   "cell_type": "markdown",
   "id": "a3e4aea3",
   "metadata": {},
   "source": [
    "Check that the matrix you get makes sense by comparing it to the plot above."
   ]
  },
  {
   "cell_type": "markdown",
   "id": "ac686830",
   "metadata": {},
   "source": [
    "### Plotting a network"
   ]
  },
  {
   "cell_type": "markdown",
   "id": "86b89b5c",
   "metadata": {},
   "source": [
    "As we saw above, `networkx` will help us draw a network using the `draw` function:"
   ]
  },
  {
   "cell_type": "code",
   "execution_count": null,
   "id": "fbfc0a85",
   "metadata": {},
   "outputs": [],
   "source": [
    "nx.draw(g_subgraph)"
   ]
  },
  {
   "cell_type": "markdown",
   "id": "f59d17c7",
   "metadata": {},
   "source": [
    "Now look at the help files for the `networkx` package and try to find at least three other ways to draw the network.<BR> \n",
    "[*Hint: try typing `nx.draw` and then push Tab; you should see a list with possible completions pop up.*]\n",
    "\n",
    "Each time you make a new plot, read the help file and try to explain how this plot is made. (If you don't understand the help file, that is OK -- some if it goes beyond what we have discussed so far. Just do your best.)"
   ]
  },
  {
   "cell_type": "code",
   "execution_count": null,
   "id": "ca99a19a",
   "metadata": {},
   "outputs": [],
   "source": [
    "nx.draw_circular(g_subgraph)"
   ]
  },
  {
   "cell_type": "code",
   "execution_count": null,
   "id": "a89c36a2",
   "metadata": {},
   "outputs": [],
   "source": [
    "nx.draw_spectral(g_subgraph)"
   ]
  },
  {
   "cell_type": "code",
   "execution_count": null,
   "id": "14d03b6d",
   "metadata": {},
   "outputs": [],
   "source": [
    "nx.draw_kamada_kawai(g_subgraph)"
   ]
  },
  {
   "cell_type": "markdown",
   "id": "af0c3ceb",
   "metadata": {
    "deletable": false,
    "editable": false
   },
   "source": [
    "<!-- BEGIN QUESTION -->\n",
    "\n",
    "## Question 3:\n",
    "What do you learn from these graphs about plotting networks?"
   ]
  },
  {
   "cell_type": "markdown",
   "id": "566190c6",
   "metadata": {},
   "source": [
    "_Type your answer here, replacing this text._"
   ]
  },
  {
   "cell_type": "markdown",
   "id": "c6c54585",
   "metadata": {
    "deletable": false,
    "editable": false
   },
   "source": [
    "<!-- END QUESTION -->\n",
    "\n",
    "### The complete network"
   ]
  },
  {
   "cell_type": "markdown",
   "id": "e59054d2",
   "metadata": {
    "collapsed": true
   },
   "source": [
    "Remember that, so far, we have mostly been looking at a subgraph of the complete school network. This was helpful because it is easier to illustrate some network concepts with smaller networks. Now we will turn to the entire network."
   ]
  },
  {
   "cell_type": "markdown",
   "id": "31cdab57",
   "metadata": {},
   "source": [
    "Let's use the `draw` function to draw the complete school network again. "
   ]
  },
  {
   "cell_type": "code",
   "execution_count": null,
   "id": "f789da6b",
   "metadata": {},
   "outputs": [],
   "source": [
    "nx.draw(g)"
   ]
  },
  {
   "cell_type": "markdown",
   "id": "5dd228f7",
   "metadata": {},
   "source": [
    "**Practice** Now use the three other drawing methods that you discovered above to produce different plots of this network."
   ]
  },
  {
   "cell_type": "code",
   "execution_count": null,
   "id": "79161c73",
   "metadata": {},
   "outputs": [],
   "source": [
    "nx.draw_random(g)"
   ]
  },
  {
   "cell_type": "code",
   "execution_count": null,
   "id": "587597e5",
   "metadata": {},
   "outputs": [],
   "source": [
    "nx.draw_spring(g)"
   ]
  },
  {
   "cell_type": "code",
   "execution_count": null,
   "id": "30e1e402",
   "metadata": {},
   "outputs": [],
   "source": [
    "nx.draw_shell(g)"
   ]
  },
  {
   "cell_type": "markdown",
   "id": "f276cceb",
   "metadata": {
    "deletable": false,
    "editable": false
   },
   "source": [
    "<!-- BEGIN QUESTION -->\n",
    "\n",
    "## Question 4:\n",
    "As its name suggests, `draw_random` draws the network with a random layout. You will get a different plot each time you call `draw_random`. Write a simple loop that will call `draw_random` 10 different times, producing 10 different random drawings of this network.<BR>\n",
    "*[HINT: after each plot you draw in your loop, tell matplotlib that you want to start a new plot (rather than adding to the existing one) by calling `plt.figure()`]*"
   ]
  },
  {
   "cell_type": "code",
   "execution_count": null,
   "id": "dd625288",
   "metadata": {
    "scrolled": true,
    "tags": []
   },
   "outputs": [],
   "source": [
    "for i in range(10):\n",
    "    nx.draw_random(..., with_labels=True)\n",
    "    ..."
   ]
  },
  {
   "cell_type": "markdown",
   "id": "dca34df4",
   "metadata": {
    "deletable": false,
    "editable": false
   },
   "source": [
    "<!-- END QUESTION -->\n",
    "\n",
    "### Degree plots"
   ]
  },
  {
   "cell_type": "markdown",
   "id": "c76aea3e",
   "metadata": {},
   "source": [
    "We brainstormed a few of the quantitative ways that we could try to summarize the structure of a network. One of these ways was to look at the *degrees* in the network. The degree of a node in the network is the number of other nodes that it is connected to."
   ]
  },
  {
   "cell_type": "markdown",
   "id": "923e4869",
   "metadata": {},
   "source": [
    "Now we will investigate the degrees in this school friendship network."
   ]
  },
  {
   "cell_type": "markdown",
   "id": "c1463402",
   "metadata": {},
   "source": [
    "Think for a second about what the collection of degrees in a network tells us: it tells us, for each node, how connected that node is.  Often, we are interested in understanding how much that varies from node to node. For example, in some networks, it can be the case that every node has exactly the same degree; in other networks, there can be huge differences in the degrees of different nodes."
   ]
  },
  {
   "cell_type": "markdown",
   "id": "fb418d73",
   "metadata": {},
   "source": [
    "## Question 5:\n",
    "Create a Table called `g_degrees` that has two columns:\n",
    "* `id` - has the id of each node in the network\n",
    "* `degree` - has the degree of each node in the network\n",
    "\n",
    "*[Hint: the `degree` method returns a dictionary, which is a type of data structure in Python. For our purposes, it is helpful to understand that you can get the entries in a dictionary using the `values` function. It will take a little exploring to figure out exactly how; feel free to work this out together with your neighbor.]*\n",
    "<BR>"
   ]
  },
  {
   "cell_type": "markdown",
   "id": "df60a581",
   "metadata": {},
   "source": [
    "**Degree Table for g_subgraph**"
   ]
  },
  {
   "cell_type": "code",
   "execution_count": null,
   "id": "d684c7d4",
   "metadata": {},
   "outputs": [],
   "source": [
    "nx.draw(g_subgraph, with_labels=True)"
   ]
  },
  {
   "cell_type": "code",
   "execution_count": null,
   "id": "3aa07f8c",
   "metadata": {},
   "outputs": [],
   "source": [
    "# the function .degree returns the degrees of each node in the network you are working with\n",
    "g_subgraph.degree(g_subgraph.nodes())"
   ]
  },
  {
   "cell_type": "code",
   "execution_count": null,
   "id": "d257c40d",
   "metadata": {},
   "outputs": [],
   "source": [
    "# you can use the list function to convert it into the list format that is easier to work with\n",
    "list(g_subgraph.degree(g_subgraph.nodes()))"
   ]
  },
  {
   "cell_type": "code",
   "execution_count": null,
   "id": "7e95c4ad",
   "metadata": {},
   "outputs": [],
   "source": [
    "# then we want to create a table listing all the nodes and their degree levels\n",
    "g_degrees = Table().with_columns([\n",
    "    'id', g_subgraph.nodes(),\n",
    "    'degree', [y for (x,y) in list(g_subgraph.degree(g_subgraph.nodes()))] # use all the y values in the pairs (x,y) in the list\n",
    "])\n",
    "\n",
    "    \n",
    "g_degrees"
   ]
  },
  {
   "cell_type": "markdown",
   "id": "28775998",
   "metadata": {
    "deletable": false,
    "editable": false
   },
   "source": [
    "**Now create degrees table for the complete graph (with network g) rather than the subgraph:**"
   ]
  },
  {
   "cell_type": "code",
   "execution_count": null,
   "id": "c8b1fba2",
   "metadata": {
    "tags": []
   },
   "outputs": [],
   "source": [
    "g_degrees = Table().with_columns([\n",
    "    'id', ...,\n",
    "    'degree', [y for (x,y) in ...]\n",
    "])\n",
    "\n",
    "print(g_degrees)\n"
   ]
  },
  {
   "cell_type": "code",
   "execution_count": null,
   "id": "7796fe16",
   "metadata": {
    "deletable": false,
    "editable": false
   },
   "outputs": [],
   "source": [
    "grader.check(\"q5\")"
   ]
  },
  {
   "cell_type": "markdown",
   "id": "3ea8de1e",
   "metadata": {},
   "source": [
    "Now you can make a histogram of the degrees of the nodes in the network"
   ]
  },
  {
   "cell_type": "code",
   "execution_count": null,
   "id": "81a0ec22",
   "metadata": {},
   "outputs": [],
   "source": [
    "g_degrees.hist('degree', bins=np.arange(0, 16, 1))"
   ]
  },
  {
   "cell_type": "markdown",
   "id": "51ff72cd",
   "metadata": {},
   "source": [
    "## Quantifying network structure"
   ]
  },
  {
   "cell_type": "markdown",
   "id": "ab181e93",
   "metadata": {},
   "source": [
    "There are many different ways of quantifying network structure. We're going to start by discussing different ways of measuring *network connectivity*. Roughly speaking, a network has a high level of connectivity when any node can reach another node by following a small number of network edges. In the case of the Add Health student friendship networks, a highly connected network could arise when students are friends with many of their fellow students. A poorly connected network, on the other hand, could arise when students are segregated into distinct groups that don't interact much with one another."
   ]
  },
  {
   "cell_type": "markdown",
   "id": "de50c993",
   "metadata": {},
   "source": [
    "<img src=\"example_network.png\" style=\"width: 60%;\">"
   ]
  },
  {
   "cell_type": "markdown",
   "id": "e2ed440e",
   "metadata": {},
   "source": [
    "Some of the **basic metrics** of this network are as follows"
   ]
  },
  {
   "cell_type": "markdown",
   "id": "aa3c7c40",
   "metadata": {},
   "source": [
    "\n",
    "\n",
    "* number of nodes: 8\n",
    "* number of edges: 5\n",
    "* average degree: (1 + 1 + 3 + 1 + 1 + 1 + 1 + 1) / 8 = 10 / 8\n",
    "* number of connected components: 3\n",
    "\n"
   ]
  },
  {
   "cell_type": "markdown",
   "id": "a59b96c7",
   "metadata": {},
   "source": [
    "And the **shortest distance** between each pair of nodes in the largest component of the graph is as follows"
   ]
  },
  {
   "cell_type": "markdown",
   "id": "8211b9d5",
   "metadata": {},
   "source": [
    "\n",
    "\n",
    "|    -|  node 1 | node 2 |  node 3 |  node 4 |\n",
    "|   :----:    |  :---:  |  :---: |  :---:  |  :---:  |\n",
    "|   node 1    |    -    |    2   |    1    |    2    |\n",
    "|   node 2    |    2    |    -   |    1    |    2    |\n",
    "|   node 3    |    1    |    1   |    -    |    1    |\n",
    "|   node 4    |    2    |    2   |    1    |    -    |"
   ]
  },
  {
   "cell_type": "markdown",
   "id": "e82de4ef",
   "metadata": {},
   "source": [
    "Furthermore, some additional **hand-calculated metrics** of the largest component of the graph are as follows."
   ]
  },
  {
   "cell_type": "markdown",
   "id": "9ee86cdb",
   "metadata": {},
   "source": [
    "\n",
    "\n",
    "* average path length: 9 / 6\n",
    "* diameter: 2\n",
    "* radius: 1\n",
    "* fraction of nodes in periphery: 3 / 4\n",
    "* fraction of nodes in core: 1 / 4"
   ]
  },
  {
   "cell_type": "markdown",
   "id": "ecb41c9a",
   "metadata": {},
   "source": [
    "If you're unsure of what it means for a node to be the \"core\" or in the \"periphery\" look up those words and/or talk to the GSI."
   ]
  },
  {
   "cell_type": "markdown",
   "id": "a221ad90",
   "metadata": {},
   "source": [
    "### Calculating network metrics with `networkx` (please do this with a partner)"
   ]
  },
  {
   "cell_type": "markdown",
   "id": "e2fd6768",
   "metadata": {},
   "source": [
    "Now we are going to use the `networkx` package to check the calculations we made by hand."
   ]
  },
  {
   "cell_type": "code",
   "execution_count": null,
   "id": "861511b8",
   "metadata": {},
   "outputs": [],
   "source": [
    "ex_network = nx.Graph([(1,3), (2,3), (3,4), (5,6), (7,8)])"
   ]
  },
  {
   "cell_type": "markdown",
   "id": "d7f22b17",
   "metadata": {},
   "source": [
    "**Practice** Check that your network is correct by drawing it and comparing it to the image above."
   ]
  },
  {
   "cell_type": "code",
   "execution_count": null,
   "id": "8d6dad6f",
   "metadata": {},
   "outputs": [],
   "source": [
    "nx.draw(ex_network, with_labels=True)"
   ]
  },
  {
   "cell_type": "markdown",
   "id": "f8e2107e",
   "metadata": {},
   "source": [
    "The next few questions ask you to use the following functions to check your calculations:\n",
    "\n",
    "* `number_of_nodes()`\n",
    "* `number_of_edges()`\n",
    "* `number_connected_components()`"
   ]
  },
  {
   "cell_type": "markdown",
   "id": "aabb3aae",
   "metadata": {},
   "source": [
    "Check the number of nodes"
   ]
  },
  {
   "cell_type": "code",
   "execution_count": null,
   "id": "d62ca424",
   "metadata": {},
   "outputs": [],
   "source": [
    "ex_network.number_of_nodes()"
   ]
  },
  {
   "cell_type": "markdown",
   "id": "dfac293e",
   "metadata": {},
   "source": [
    "Check the number of edges"
   ]
  },
  {
   "cell_type": "code",
   "execution_count": null,
   "id": "44739e2f",
   "metadata": {},
   "outputs": [],
   "source": [
    "ex_network.number_of_edges()"
   ]
  },
  {
   "cell_type": "markdown",
   "id": "a3c285a8",
   "metadata": {
    "deletable": false,
    "editable": false
   },
   "source": [
    "## Question 6: \n",
    "\n",
    "What is the average degree of this network?"
   ]
  },
  {
   "cell_type": "code",
   "execution_count": null,
   "id": "4319a679",
   "metadata": {
    "tags": []
   },
   "outputs": [],
   "source": [
    "q6 = ..."
   ]
  },
  {
   "cell_type": "code",
   "execution_count": null,
   "id": "3eb950f2",
   "metadata": {
    "deletable": false,
    "editable": false
   },
   "outputs": [],
   "source": [
    "grader.check(\"q6\")"
   ]
  },
  {
   "cell_type": "markdown",
   "id": "229d9c5b",
   "metadata": {},
   "source": [
    "Check the number of connected components"
   ]
  },
  {
   "cell_type": "code",
   "execution_count": null,
   "id": "99857ed9",
   "metadata": {},
   "outputs": [],
   "source": [
    "nx.number_connected_components(ex_network)"
   ]
  },
  {
   "cell_type": "markdown",
   "id": "ff93bbf1",
   "metadata": {},
   "source": [
    "This network seems a poorly connected network. Let's compare it with a fully-connected network with the same number of nodes to illustrate the difference in connectivity. A network is fully connected when there is an edge connecting all pairs of nodes. In other words, the network has the maximum possible number of edges for a given number of nodes. \n",
    "\n",
    "For example, let's calculate what is the maximum possible number of edges for our 8-node network. We can start with an empty network and draw all possible edges from each node. We can draw 7 edges connecting Node #1 to 7 other nodes, then 6 edges connecting Node #2 to 6 other nodes, excluding Node #1 because there is already an edge connecting Node #1 and Node #2. We can iterate through all nodes, and find the following formula: max. number of nodes = 7+6+5+4+3+2+1 = 28. Arithmetically, that is equivalent to (8*7)/2 = 28.  \n",
    "\n",
    "More generally: the max. number of edges in a n-node network = n*(n-1)/2.\n",
    "\n",
    "Let's check our calculation:"
   ]
  },
  {
   "cell_type": "code",
   "execution_count": null,
   "id": "0b569007",
   "metadata": {},
   "outputs": [],
   "source": [
    "# generates a full network with n edges\n",
    "g_full = nx.complete_graph(8)\n",
    "g_full.number_of_edges()"
   ]
  },
  {
   "cell_type": "markdown",
   "id": "0be4936f",
   "metadata": {},
   "source": [
    "And draw the full network:"
   ]
  },
  {
   "cell_type": "code",
   "execution_count": null,
   "id": "6407ee1c",
   "metadata": {},
   "outputs": [],
   "source": [
    "nx.draw(g_full)"
   ]
  },
  {
   "cell_type": "markdown",
   "id": "823b4320",
   "metadata": {},
   "source": [
    "Several of the metrics we discussed only make sense when the entire network is one connected component. We will take the largest connected component of the `ex_network` (as we did when we made the calculations by hand above)."
   ]
  },
  {
   "cell_type": "markdown",
   "id": "f8a90300",
   "metadata": {},
   "source": [
    "Take the largest connected component of the example network. (To do this, look at the help file for the `connected_components` function; the example in the help file shows how to do this)"
   ]
  },
  {
   "cell_type": "code",
   "execution_count": null,
   "id": "d75b0a44",
   "metadata": {},
   "outputs": [],
   "source": [
    "ex_network_lc = max((ex_network.subgraph(c) for c in nx.connected_components(ex_network)), key=len)"
   ]
  },
  {
   "cell_type": "markdown",
   "id": "dd305071",
   "metadata": {},
   "source": [
    "Check that this worked correctly by drawing `ex_network_lc`"
   ]
  },
  {
   "cell_type": "code",
   "execution_count": null,
   "id": "9a0bc79b",
   "metadata": {},
   "outputs": [],
   "source": [
    "nx.draw(ex_network_lc, with_labels=True)"
   ]
  },
  {
   "cell_type": "markdown",
   "id": "276a9930",
   "metadata": {},
   "source": [
    "The next few practices ask you to use the following functions to check your calculations:\n",
    "\n",
    "* `average_shortest_path_length()`\n",
    "* `radius()`\n",
    "* `diameter()`\n",
    "* `periphery()`\n",
    "* `center()`"
   ]
  },
  {
   "cell_type": "markdown",
   "id": "2d693751",
   "metadata": {},
   "source": [
    "Check the average shortest path length"
   ]
  },
  {
   "cell_type": "code",
   "execution_count": null,
   "id": "d02d14f8",
   "metadata": {},
   "outputs": [],
   "source": [
    "nx.average_shortest_path_length(ex_network_lc)"
   ]
  },
  {
   "cell_type": "markdown",
   "id": "7fd035b5",
   "metadata": {},
   "source": [
    "Check the radius"
   ]
  },
  {
   "cell_type": "code",
   "execution_count": null,
   "id": "2d04aa44",
   "metadata": {},
   "outputs": [],
   "source": [
    "nx.radius(ex_network_lc)"
   ]
  },
  {
   "cell_type": "markdown",
   "id": "7673e7cd",
   "metadata": {},
   "source": [
    "Check the diameter"
   ]
  },
  {
   "cell_type": "code",
   "execution_count": null,
   "id": "cc3a99e4",
   "metadata": {},
   "outputs": [],
   "source": [
    "nx.diameter(ex_network_lc)"
   ]
  },
  {
   "cell_type": "markdown",
   "id": "2454655d",
   "metadata": {},
   "source": [
    "Check the fraction of nodes in the periphery"
   ]
  },
  {
   "cell_type": "code",
   "execution_count": null,
   "id": "e6f7d040",
   "metadata": {},
   "outputs": [],
   "source": [
    "len(nx.periphery(ex_network_lc)) / ex_network_lc.number_of_nodes()"
   ]
  },
  {
   "cell_type": "markdown",
   "id": "ebaabce4",
   "metadata": {},
   "source": [
    "Check which nodes are in the periphery"
   ]
  },
  {
   "cell_type": "code",
   "execution_count": null,
   "id": "ba72de92",
   "metadata": {},
   "outputs": [],
   "source": [
    "nx.periphery(ex_network_lc)"
   ]
  },
  {
   "cell_type": "markdown",
   "id": "217972bd",
   "metadata": {},
   "source": [
    "Check the fraction of nodes in the center"
   ]
  },
  {
   "cell_type": "code",
   "execution_count": null,
   "id": "c13209a5",
   "metadata": {},
   "outputs": [],
   "source": [
    "len(nx.center(ex_network_lc)) / ex_network_lc.number_of_nodes()"
   ]
  },
  {
   "cell_type": "markdown",
   "id": "f64fc8c2",
   "metadata": {},
   "source": [
    "## Clustering Coefficient\n",
    "\n",
    "Clustering coefficient measures the degree to which nodes form clusters in a graph. The `networkx` library provides a function, `average_clustering`, that can be used to calculate the average clustering coefficient of a graph. Use the `average_clustering` method to calculate the average clustering coefficient of the above graph. \n",
    "\n",
    "Let's create another example network:\n"
   ]
  },
  {
   "cell_type": "code",
   "execution_count": null,
   "id": "3412137d",
   "metadata": {},
   "outputs": [],
   "source": [
    "ex_network = nx.Graph([(1,3), (2,3), (1,2), (3,4), (5,6), (7,8)])\n",
    "ex_network.add_node(9)\n",
    "nx.draw_circular(ex_network, with_labels=True, font_color='white')"
   ]
  },
  {
   "cell_type": "markdown",
   "id": "bc843b98",
   "metadata": {},
   "source": [
    "And calculate the average clustering coefficient:"
   ]
  },
  {
   "cell_type": "code",
   "execution_count": null,
   "id": "80992b53",
   "metadata": {},
   "outputs": [],
   "source": [
    "nx.average_clustering(ex_network)"
   ]
  },
  {
   "cell_type": "markdown",
   "id": "3a6f6aac",
   "metadata": {
    "deletable": false,
    "editable": false
   },
   "source": [
    "## Question 7\n",
    "\n",
    "Now let's calculate the average clustering coefficient for the Add Health network `g`."
   ]
  },
  {
   "cell_type": "code",
   "execution_count": null,
   "id": "859de6dd",
   "metadata": {
    "tags": []
   },
   "outputs": [],
   "source": [
    "cc_nx = ..."
   ]
  },
  {
   "cell_type": "code",
   "execution_count": null,
   "id": "b2e2ce60",
   "metadata": {
    "deletable": false,
    "editable": false
   },
   "outputs": [],
   "source": [
    "grader.check(\"q7\")"
   ]
  },
  {
   "cell_type": "markdown",
   "id": "5b853aa7",
   "metadata": {
    "deletable": false,
    "editable": false
   },
   "source": [
    "---\n",
    "\n",
    "To double-check your work, the cell below will rerun all of the autograder tests."
   ]
  },
  {
   "cell_type": "code",
   "execution_count": null,
   "id": "510a92e9",
   "metadata": {
    "deletable": false,
    "editable": false
   },
   "outputs": [],
   "source": [
    "grader.check_all()"
   ]
  }
 ],
 "metadata": {
  "kernelspec": {
   "display_name": "Python 3",
   "language": "python",
   "name": "python3"
  },
  "language_info": {
   "codemirror_mode": {
    "name": "ipython",
    "version": 3
   },
   "file_extension": ".py",
   "mimetype": "text/x-python",
   "name": "python",
   "nbconvert_exporter": "python",
   "pygments_lexer": "ipython3",
   "version": "3.11.9"
  },
  "otter": {
   "OK_FORMAT": true,
   "tests": {
    "q2": {
     "name": "q2",
     "points": 1,
     "suites": [
      {
       "cases": [
        {
         "code": ">>> np.isclose(q2_edges, 220.0)\nTrue",
         "hidden": false,
         "locked": false
        },
        {
         "code": ">>> np.isclose(q2_nodes, 69.0)\nTrue",
         "hidden": false,
         "locked": false
        }
       ],
       "scored": true,
       "setup": "",
       "teardown": "",
       "type": "doctest"
      }
     ]
    },
    "q5": {
     "name": "q5",
     "points": 1,
     "suites": [
      {
       "cases": [
        {
         "code": ">>> round(g_degrees.num_rows, 1) == 69.0\nTrue",
         "hidden": false,
         "locked": false
        },
        {
         "code": ">>> round(g_degrees.num_columns, 1) == 2.0\nTrue",
         "hidden": false,
         "locked": false
        }
       ],
       "scored": true,
       "setup": "",
       "teardown": "",
       "type": "doctest"
      }
     ]
    },
    "q6": {
     "name": "q6",
     "points": 1,
     "suites": [
      {
       "cases": [
        {
         "code": ">>> np.isclose(q6, 1.25)\nTrue",
         "hidden": false,
         "locked": false
        }
       ],
       "scored": true,
       "setup": "",
       "teardown": "",
       "type": "doctest"
      }
     ]
    },
    "q7": {
     "name": "q7",
     "points": 1,
     "suites": [
      {
       "cases": [
        {
         "code": ">>> np.isclose(cc_nx, 0.467809)\nTrue",
         "hidden": false,
         "locked": false
        }
       ],
       "scored": true,
       "setup": "",
       "teardown": "",
       "type": "doctest"
      }
     ]
    }
   }
  }
 },
 "nbformat": 4,
 "nbformat_minor": 5
}
