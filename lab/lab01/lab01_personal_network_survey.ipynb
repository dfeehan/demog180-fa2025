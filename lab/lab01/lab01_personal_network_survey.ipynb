{
 "cells": [
  {
   "cell_type": "code",
   "execution_count": null,
   "metadata": {
    "deletable": false,
    "editable": false
   },
   "outputs": [],
   "source": [
    "# Initialize Otter\n",
    "import otter\n",
    "grader = otter.Notebook(\"lab01_personal_network_survey.ipynb\")"
   ]
  },
  {
   "cell_type": "code",
   "execution_count": null,
   "metadata": {},
   "outputs": [],
   "source": [
    "!pip install --upgrade pandoc"
   ]
  },
  {
   "cell_type": "code",
   "execution_count": null,
   "metadata": {},
   "outputs": [],
   "source": [
    "from IPython.core.display import HTML\n",
    "from datascience import *\n",
    "from scipy.stats import chi2_contingency\n",
    "\n",
    "import matplotlib\n",
    "matplotlib.use('Agg')\n",
    "%matplotlib inline\n",
    "import matplotlib.pyplot as plt\n",
    "import numpy as np\n",
    "import pandas as pd\n",
    "plt.style.use('fivethirtyeight')\n",
    "import warnings\n",
    "warnings.simplefilter('ignore', FutureWarning)"
   ]
  },
  {
   "cell_type": "markdown",
   "metadata": {},
   "source": [
    "# Lab 1: Personal Network Surveys"
   ]
  },
  {
   "cell_type": "markdown",
   "metadata": {},
   "source": [
    "In this lab, we will analyze some data from the [General Social Survey](http://gss.norc.org/) (GSS).\n",
    "The GSS is the survey that was the basis of the debate over whether or not Americans are becoming more socially isolated, which we discussed in class."
   ]
  },
  {
   "cell_type": "code",
   "execution_count": null,
   "metadata": {},
   "outputs": [],
   "source": [
    "import os\n",
    "os.getcwd()"
   ]
  },
  {
   "cell_type": "markdown",
   "metadata": {},
   "source": [
    "The file `GSS.csv` has an extract from the GSS which we will analyze today.\n",
    "\n",
    "Here is the [codebook](http://gss.norc.org/documents/codebook/GSS_Codebook.pdf) for the entire GSS. Of course, the GSS is huge, so you will have to search through for the variable names included in this extract. (Don't do this by hand -- use your pdf viewer's search function.)"
   ]
  },
  {
   "cell_type": "markdown",
   "metadata": {},
   "source": [
    "Read the GSS extract into a Table called `gss_data`."
   ]
  },
  {
   "cell_type": "code",
   "execution_count": null,
   "metadata": {},
   "outputs": [],
   "source": [
    "gss_data = Table.read_table('GSS.csv')\n"
   ]
  },
  {
   "cell_type": "markdown",
   "metadata": {},
   "source": [
    "Let's first take a look at its contents:"
   ]
  },
  {
   "cell_type": "code",
   "execution_count": null,
   "metadata": {},
   "outputs": [],
   "source": [
    "gss_data"
   ]
  },
  {
   "cell_type": "markdown",
   "metadata": {
    "deletable": false,
    "editable": false
   },
   "source": [
    "## Question 1:\n",
    "How many rows and how many columns does `gss_data` have? \n",
    "\n",
    "*Hint: the `Table` object has two attributes, `num_columns` and `num_rows`.*"
   ]
  },
  {
   "cell_type": "code",
   "execution_count": null,
   "metadata": {
    "tags": [
     "otter_answer_cell"
    ]
   },
   "outputs": [],
   "source": [
    "gss_number_of_rows = ...\n",
    "gss_number_of_cols = ...\n",
    "\n",
    "print(\"num rows: \", gss_number_of_rows)\n",
    "print(\"num cols: \", gss_number_of_cols)"
   ]
  },
  {
   "cell_type": "code",
   "execution_count": null,
   "metadata": {
    "deletable": false,
    "editable": false
   },
   "outputs": [],
   "source": [
    "grader.check(\"q1\")"
   ]
  },
  {
   "cell_type": "markdown",
   "metadata": {
    "deletable": false,
    "editable": false
   },
   "source": [
    "## Question 2:\n",
    "What range of years is covered by this dataset? Answer this by finding the largest and smallest year. \n",
    "\n",
    "_Hint: You can use the functions max and min that we introduced back in Lab 0_"
   ]
  },
  {
   "cell_type": "code",
   "execution_count": null,
   "metadata": {
    "tags": [
     "otter_answer_cell"
    ]
   },
   "outputs": [],
   "source": [
    "largest_year = ...\n",
    "smallest_year = ...\n",
    "\n",
    "print(\"earliest year: \", smallest_year)\n",
    "print(\"latest year: \", largest_year)"
   ]
  },
  {
   "cell_type": "code",
   "execution_count": null,
   "metadata": {
    "deletable": false,
    "editable": false
   },
   "outputs": [],
   "source": [
    "grader.check(\"q2\")"
   ]
  },
  {
   "cell_type": "markdown",
   "metadata": {},
   "source": [
    "In the GSS, we are interested in one question that measures social networks, namely, Question 333: *From time to time, most people discuss important matters with other people. Looking back over the last six months - who are the people with whom\n",
    "you discussed matters important to you?* (GSS Codebook, p. 572). \n",
    "\n",
    " It turns out that this question was only asked of the survey respondents in 1985 and 2004. In order to continue with our analysis, we will pick out only the rows of the dataset that correspond to the years we are interested in."
   ]
  },
  {
   "cell_type": "markdown",
   "metadata": {
    "deletable": false,
    "editable": false
   },
   "source": [
    "## Question 3:\n",
    "Make two new datasets: `gss_1985` and `gss_2004` which have only the responses from 1985 and 2004, respectively.\n",
    "\n",
    "*Hint: use functions `Table.where` and `are.equal_to(...)`*"
   ]
  },
  {
   "cell_type": "code",
   "execution_count": null,
   "metadata": {
    "tags": [
     "otter_answer_cell"
    ]
   },
   "outputs": [],
   "source": [
    "gss_1985 = ...\n",
    "gss_2004 = ..."
   ]
  },
  {
   "cell_type": "code",
   "execution_count": null,
   "metadata": {
    "deletable": false,
    "editable": false
   },
   "outputs": [],
   "source": [
    "grader.check(\"q3\")"
   ]
  },
  {
   "cell_type": "markdown",
   "metadata": {
    "deletable": false,
    "editable": false
   },
   "source": [
    "## Question 4: \n",
    "How many responses are there from 1985, and how many from 2004? "
   ]
  },
  {
   "cell_type": "code",
   "execution_count": null,
   "metadata": {
    "tags": [
     "otter_answer_cell"
    ]
   },
   "outputs": [],
   "source": [
    "responses_from_1985 = ...\n",
    "responses_from_2004 = ..."
   ]
  },
  {
   "cell_type": "code",
   "execution_count": null,
   "metadata": {
    "deletable": false,
    "editable": false
   },
   "outputs": [],
   "source": [
    "grader.check(\"q4\")"
   ]
  },
  {
   "cell_type": "markdown",
   "metadata": {
    "deletable": false,
    "editable": false
   },
   "source": [
    "## Question 5:\n",
    "We are interested in how many people survey respondents said that they discussed important matters with. That will give us information about the sizes of their personal networks.\n",
    "\n",
    "Make a table of the values in the `numgiven` column for each year. This tables should show the possible options for `numgiven` and how often that response occurred.\n",
    "\n",
    "*Hint: use the function `Table.group`.*"
   ]
  },
  {
   "cell_type": "code",
   "execution_count": null,
   "metadata": {
    "tags": [
     "otter_answer_cell"
    ]
   },
   "outputs": [],
   "source": [
    "gss_1985_numgiven = ...\n",
    "gss_1985_numgiven"
   ]
  },
  {
   "cell_type": "code",
   "execution_count": null,
   "metadata": {
    "tags": [
     "otter_answer_cell"
    ]
   },
   "outputs": [],
   "source": [
    "gss_2004_numgiven = ...\n",
    "gss_2004_numgiven"
   ]
  },
  {
   "cell_type": "code",
   "execution_count": null,
   "metadata": {
    "deletable": false,
    "editable": false
   },
   "outputs": [],
   "source": [
    "grader.check(\"q5\")"
   ]
  },
  {
   "cell_type": "markdown",
   "metadata": {},
   "source": [
    "Your table for 2004 should show that quite a few respondents have -1 as the value of `numgiven`. These respondents actually did not answer the important matters question. Their `numgiven` variable is coded as -1 (*not applicable*), according to the GSS coding scheme. There are also respondents who were asked the important matters question but did not respond. Their `numgiven` variable is coded as 9 (*No answer*). \n",
    "\n",
    " For our analysis, we need to drop those respondents."
   ]
  },
  {
   "cell_type": "markdown",
   "metadata": {
    "deletable": false,
    "editable": false
   },
   "source": [
    "## Question 6:\n",
    "Narrow the 2004 dataset down so that it does not have the respondents who have -1 values for `numgiven`\n",
    "\n",
    "_Hint: You can use the `are.above` function_"
   ]
  },
  {
   "cell_type": "code",
   "execution_count": null,
   "metadata": {
    "tags": [
     "otter_answer_cell"
    ]
   },
   "outputs": [],
   "source": [
    "gss_2004_interviewed = ..."
   ]
  },
  {
   "cell_type": "code",
   "execution_count": null,
   "metadata": {
    "deletable": false,
    "editable": false
   },
   "outputs": [],
   "source": [
    "grader.check(\"q6\")"
   ]
  },
  {
   "cell_type": "markdown",
   "metadata": {
    "deletable": false,
    "editable": false
   },
   "source": [
    "## Question 7:\n",
    "Narrow both datasets down so that they only have respondents who were asked the important matters question  and who provided answers to that question (i.e., whose value in the `numgiven` column is neither -1 nor 9)."
   ]
  },
  {
   "cell_type": "code",
   "execution_count": null,
   "metadata": {
    "tags": [
     "otter_answer_cell"
    ]
   },
   "outputs": [],
   "source": [
    "gss_1985.where('numgiven', are.not_equal_to(9)).where('numgiven', are.above(-1))"
   ]
  },
  {
   "cell_type": "code",
   "execution_count": null,
   "metadata": {
    "tags": [
     "otter_answer_cell"
    ]
   },
   "outputs": [],
   "source": [
    "gss_1985.where('numgiven', are.not_equal_to(9))\n",
    "# gss_2004_interviewed.where('numgiven', are.not_equal_to(9))"
   ]
  },
  {
   "cell_type": "code",
   "execution_count": null,
   "metadata": {
    "tags": [
     "otter_answer_cell"
    ]
   },
   "outputs": [],
   "source": [
    "gss_1985_responded = ...\n",
    "gss_2004_responded = ..."
   ]
  },
  {
   "cell_type": "code",
   "execution_count": null,
   "metadata": {
    "deletable": false,
    "editable": false
   },
   "outputs": [],
   "source": [
    "grader.check(\"q7\")"
   ]
  },
  {
   "cell_type": "markdown",
   "metadata": {},
   "source": [
    "Now we have the set of respondents we will study in more detail: those who responded to the 'important matters' question.\n",
    "\n",
    "**For the problems below, please use `gss_1985_responded` and `gss_2004_responded`.**"
   ]
  },
  {
   "cell_type": "markdown",
   "metadata": {},
   "source": [
    "Many analysts have focused on how many survey respondents report that they don't discuss important matters with anyone.  They interpret the fraction of respondents who don't report discussing important matters with anyone as an indicator for the amount of social isolation. (These respondents who report not discussing important matters with anyone have `numgiven` equal to 0.)"
   ]
  },
  {
   "cell_type": "markdown",
   "metadata": {
    "deletable": false,
    "editable": false
   },
   "source": [
    "<!-- BEGIN QUESTION -->\n",
    "\n",
    "## Question 8:\n",
    "Do you think this is a good way to try to quantify social isolation? Name one way this could be a good measure of social isolation, and one way this could be a bad measure of social isolation. Please be specific."
   ]
  },
  {
   "cell_type": "markdown",
   "metadata": {
    "tags": [
     "otter_answer_cell"
    ]
   },
   "source": [
    "_Type your answer here, replacing this text._"
   ]
  },
  {
   "cell_type": "markdown",
   "metadata": {
    "deletable": false,
    "editable": false
   },
   "source": [
    "<!-- END QUESTION -->\n",
    "\n",
    "## Question 9:\n",
    "For both the 1985 and 2004 datasets, create a new variable, `isolated` which has the value False if the respondent reports discussing important matters with anyone (`numgiven` not equal to 0), and True otherwise (`numgiven` equals to 0).\n"
   ]
  },
  {
   "cell_type": "code",
   "execution_count": null,
   "metadata": {
    "tags": [
     "otter_answer_cell"
    ]
   },
   "outputs": [],
   "source": [
    "isolated_1985 = ...\n",
    "isolated_2004 = ..."
   ]
  },
  {
   "cell_type": "code",
   "execution_count": null,
   "metadata": {
    "deletable": false,
    "editable": false
   },
   "outputs": [],
   "source": [
    "grader.check(\"q9\")"
   ]
  },
  {
   "cell_type": "markdown",
   "metadata": {
    "deletable": false,
    "editable": false
   },
   "source": [
    "## Question 10:\n",
    "Using the variable you just created, what proportion of respondents was socially isolated in 1985? In 2004?\n",
    "\n",
    "*Hint: we learned how to calculate mean in Lab0*"
   ]
  },
  {
   "cell_type": "code",
   "execution_count": null,
   "metadata": {
    "tags": [
     "otter_answer_cell"
    ]
   },
   "outputs": [],
   "source": [
    "proportion_isolated_1985 = ...\n",
    "proportion_isolated_2004 = ...\n",
    "\n",
    "print(\"Proportion isolated in 1985: \", proportion_isolated_1985)\n",
    "print(\"Proportion isolated in 2004: \", proportion_isolated_2004)"
   ]
  },
  {
   "cell_type": "code",
   "execution_count": null,
   "metadata": {
    "deletable": false,
    "editable": false
   },
   "outputs": [],
   "source": [
    "grader.check(\"q10\")"
   ]
  },
  {
   "cell_type": "markdown",
   "metadata": {
    "deletable": false,
    "editable": false
   },
   "source": [
    "## Question 11: Hypothesis Testing:\n",
    "\n",
    "We can see that the proportion of socially isolated respondents is 8.9% in 1985 and 25.0% in 2004. This seems like a substantial increase in social isolation. However, it is still possible that the difference in proportion isolated is due to randomness in the data. We need to perform some form of hypothesis testing to make sure that the difference is statistically significant.\n",
    "\n",
    "What should the appropriate null hypothesis(H0) and alternative hypothesis(H1) be?"
   ]
  },
  {
   "cell_type": "markdown",
   "metadata": {},
   "source": [
    "Because isolation is a categorical variable, we can perform a Pearson's chi-squared test."
   ]
  },
  {
   "cell_type": "code",
   "execution_count": null,
   "metadata": {},
   "outputs": [],
   "source": [
    "# Pearson's Chi-Square Test\n",
    "table = [np.array([sum(isolated_1985), sum(isolated_2004)]), \n",
    "         np.array([gss_1985_responded.num_rows, gss_2004_responded.num_rows])         ]\n",
    "\n",
    "stat, p, dof, expected = chi2_contingency(table)\n",
    "# print out test statistic and p value\n",
    "print(stat, p)\n"
   ]
  },
  {
   "cell_type": "markdown",
   "metadata": {},
   "source": [
    "In the social sciences, the commonly used significance level in hypothesis testing is 0.05. We can see that the p value of 5.62661469187e-23 is smaller than 0.05, which means we can reject the null hypothesis. The difference between proportion socially isolated in 1985 and that in 2004 is therefore statistically significant. "
   ]
  },
  {
   "cell_type": "markdown",
   "metadata": {},
   "source": [
    "## Converting from wide to long\n",
    "\n",
    "So far, we have only looked at the number of people survey respondents discuss important matters with. However, each respondent provided specific information on the people they discuss important matters with (let's call them 'alters'). In order to look at the characteristics of all of the alters respondents reported about, we're going to have to manipulate the dataset a bit more extensively. This manipulation is a little bit tricky, but we're going to go through how it can be done step by step.\n",
    "\n",
    "First, let's take a look at the first few rows of the dataset again to remind ourselves of how it is structured:"
   ]
  },
  {
   "cell_type": "code",
   "execution_count": null,
   "metadata": {},
   "outputs": [],
   "source": [
    "gss_data.show(6)"
   ]
  },
  {
   "cell_type": "markdown",
   "metadata": {},
   "source": [
    "The dataset is in *wide* format: all of the information reported by a respondent is stored in a single row:\n",
    "\n",
    "[respondent 1 info] ... [info about respondent 1's first alter] ... [info about respondent 1's second alter] ...   \n",
    "[respondent 2 info] ... [info about respondent 2's first alter] ... [info about respondent 2's second alter] ...   \n",
    "...\n",
    "\n",
    "Our goal is to reshape the dataset so that the information is in *long* format instead:\n",
    "\n",
    "[respondent 1 info] [info about respondent 1's first alter]  \n",
    "[respondent 1 info] [info about respondent 1's second alter]  \n",
    "[respondent 1 info] [info about respondent 1's third alter]  \n",
    "[respondent 1 info] [info about respondent 1's fourth alter]  \n",
    "[respondent 1 info] [info about respondent 1's fifth alter]  \n",
    "[respondent 2 info] [info about respondent 2's first alter]  \n",
    "[respondent 2 info] [info about respondent 2's second alter]  \n",
    "..."
   ]
  },
  {
   "cell_type": "markdown",
   "metadata": {},
   "source": [
    "In order to convert the alter information from wide to long format, we're going to use two functions that have been written for you below.\n",
    "\n",
    "Let's look at the function below and try to understand how it works.\n",
    "\n",
    "PS. The portion highlighted in red is called a docstring. It describes what the function does and gives examples. The code following \">>>\" is fully executable and the following line is what that function call should return."
   ]
  },
  {
   "cell_type": "code",
   "execution_count": null,
   "metadata": {},
   "outputs": [],
   "source": [
    "def repeat_single_col(data, var_name, times=5):\n",
    "    \"\"\"Repeats a single column multiple times.\n",
    "    \n",
    "    Parameters\n",
    "    ----------\n",
    "    var_name : str\n",
    "        Text that contains the name of the column to repeat.\n",
    "    \n",
    "    Returns\n",
    "    -------\n",
    "    np.array\n",
    "        A single array with the contents of the column repeated five times.\n",
    "    \n",
    "    Examples\n",
    "    --------\n",
    "    >>> repeat_single_col(Table().with_columns(['respondent_age', [10]]),\n",
    "                          'respondent_age')\n",
    "    \n",
    "    array([10, 10, 10, 10, 10])\n",
    "    \"\"\"\n",
    "    new_col = np.tile(data.column(var_name), times)\n",
    "    return new_col"
   ]
  },
  {
   "cell_type": "markdown",
   "metadata": {},
   "source": [
    "The key to understanding repeat_single_col is the `np.tile` function. Look that function up and read its help page."
   ]
  },
  {
   "cell_type": "markdown",
   "metadata": {},
   "source": [
    "**Practice** Use `np.tile` to create an array that contains [1,3,5,7,1,3,5,7,1,3,5,7,1,3,5,7]."
   ]
  },
  {
   "cell_type": "code",
   "execution_count": null,
   "metadata": {},
   "outputs": [],
   "source": [
    "#np.tile? # You can remove the # sign and see the 'help' documentation for np.tile\n",
    "practice = [1, 3, 5, 7]\n",
    "practice_array = np.tile(practice, 4)\n",
    "practice_array"
   ]
  },
  {
   "cell_type": "markdown",
   "metadata": {},
   "source": [
    "**Practice** What is the difference between `np.tile` and `np.repeat`? Do they do the same thing? What happens if you pass the same arguments to `np.repeat` as to `np.tile`?\n",
    "\n",
    "[Hint: you can use the help page to figure out what np.repeat does.]"
   ]
  },
  {
   "cell_type": "code",
   "execution_count": null,
   "metadata": {},
   "outputs": [],
   "source": [
    "#np.repeat? # You can remove the # sign and see the 'help' documentation for np.repeat\n",
    "practice2 = [1, 3, 5, 7]\n",
    "practice2_array = np.repeat(practice2, 4)\n",
    "practice2_array"
   ]
  },
  {
   "cell_type": "markdown",
   "metadata": {},
   "source": [
    "Now look at the next function, and try to understand how it works."
   ]
  },
  {
   "cell_type": "code",
   "execution_count": null,
   "metadata": {},
   "outputs": [],
   "source": [
    "def wide_to_long(data, var_name, times=5):\n",
    "    \"\"\"Given columns of alter characteristics, stack them into one long column.\n",
    "    \n",
    "    Parameters\n",
    "    ----------\n",
    "    data : Table\n",
    "        The data table containing the alter characteristics\n",
    "    var_name : str\n",
    "        Text that contains the variable name; columns of the dataset should\n",
    "        match the pattern: [var_name][alter_number]\n",
    "        For example, if var_name is 'age' then this function expects to find\n",
    "        columns in the survey dataset named \n",
    "        'age1', 'age2', 'age3', 'age4', and 'age5'\n",
    "    times : int\n",
    "        The number of columns for each characteristic\n",
    "    \n",
    "    Returns\n",
    "    -------\n",
    "    np.array\n",
    "        A single array with the contents of all of the columns stacked on top of one another.\n",
    "    \n",
    "    Examples\n",
    "    --------\n",
    "    >>> wide_to_long(Table().with_columns(['age1', [10, 15],\n",
    "                                           'age2', [30, 35],\n",
    "                                           'age3', [20, 15],\n",
    "                                           'age4', [60, 70],\n",
    "                                           'age5', [20, 25]]),\n",
    "                     'age')\n",
    "    \n",
    "    array([10, 15, 30, 35, 20, 15, 60, 70, 20, 25])\n",
    "    \"\"\"\n",
    "    new_col = np.concatenate([data.column(var_name + str(idx)) for idx in range(1,times+1)])\n",
    "    return new_col"
   ]
  },
  {
   "cell_type": "markdown",
   "metadata": {},
   "source": [
    "The key to understanding this second function is np.concatenate. Look up the help page for np.concatenate."
   ]
  },
  {
   "cell_type": "code",
   "execution_count": null,
   "metadata": {},
   "outputs": [],
   "source": [
    "np.concatenate?"
   ]
  },
  {
   "cell_type": "markdown",
   "metadata": {},
   "source": [
    "**Practice** Use `np.concatenate` to make a single array that has the contents of `column_one` and `column_two` concatenated together:"
   ]
  },
  {
   "cell_type": "code",
   "execution_count": null,
   "metadata": {},
   "outputs": [],
   "source": [
    "concat_table = Table().with_columns(['column_one', [1,3,5,7,9],\n",
    "                                    'column_two', [2,4,6,8,10]])\n",
    "concat_table"
   ]
  },
  {
   "cell_type": "code",
   "execution_count": null,
   "metadata": {},
   "outputs": [],
   "source": [
    "#to make a single array with the contents of column_one and column_two\n",
    "column_one = concat_table.column('column_one') \n",
    "column_two = concat_table.column('column_two')\n",
    "concat_array = np.concatenate((column_one, column_two))\n",
    "concat_array"
   ]
  },
  {
   "cell_type": "markdown",
   "metadata": {},
   "source": [
    "Now that we understand what `np.concatenate` does, let's run the wide_to_long() function on a simple table to see what it does."
   ]
  },
  {
   "cell_type": "code",
   "execution_count": null,
   "metadata": {},
   "outputs": [],
   "source": [
    "temp_table = Table().with_columns(['age1', [10, 15],\n",
    "                                   'age2', [30, 35],\n",
    "                                   'age3', [20, 15],\n",
    "                                   'age4', [60, 70],\n",
    "                                   'age5', [20, 25]])\n",
    "wide_to_long(temp_table,'age')"
   ]
  },
  {
   "cell_type": "markdown",
   "metadata": {},
   "source": [
    "You can see that it links the head and end of columns.\n",
    "\n",
    "We'll take a first try at converting `gss_1985_responded` to long format together, and then you'll do a more complete job as an exercise.\n",
    "\n",
    "For our first step, we'll only keep the respondent's id number and the age of the alters each respondent reported about. Since there is space for 5 alters per respondent, we expect (number of respondents x 5)\n",
    "\n",
    "Let's construct the table."
   ]
  },
  {
   "cell_type": "code",
   "execution_count": null,
   "metadata": {},
   "outputs": [],
   "source": [
    "alter_first_try = Table().with_columns([\n",
    "    'id', repeat_single_col(gss_1985_responded, 'id'),\n",
    "    'alter_age', wide_to_long(gss_1985_responded, 'age')])\n",
    "alter_first_try"
   ]
  },
  {
   "cell_type": "markdown",
   "metadata": {},
   "source": [
    "You can see that we want to use `repeat_single_col` for the column that is a respondent characteristic and that we want to use `wide_to_long` for the column that is an alter characteristic.\n",
    "\n",
    "Let's check that the resulting Table, called `alter_first_try` makes sense.\n",
    "\n"
   ]
  },
  {
   "cell_type": "markdown",
   "metadata": {
    "deletable": false,
    "editable": false
   },
   "source": [
    "## Question 12: \n",
    "How many rows do you think alter_first_try should have? Check the number of rows."
   ]
  },
  {
   "cell_type": "code",
   "execution_count": null,
   "metadata": {
    "tags": [
     "otter_answer_cell"
    ]
   },
   "outputs": [],
   "source": [
    "q1 = ...\n",
    "q1"
   ]
  },
  {
   "cell_type": "code",
   "execution_count": null,
   "metadata": {
    "deletable": false,
    "editable": false
   },
   "outputs": [],
   "source": [
    "grader.check(\"q12\")"
   ]
  },
  {
   "cell_type": "markdown",
   "metadata": {
    "deletable": false,
    "editable": false
   },
   "source": [
    "## Question 13: \n",
    "Now we will use these functions to convert the wide-format data from 1985 and 2004 into long format. This will enable us to examine whether or not there is evidence of homophily in the GSS confidant reports from those two years.\n",
    "\n",
    "Be sure to include the following:\n",
    "\n",
    "* respondent's age\n",
    "* alter's age\n"
   ]
  },
  {
   "cell_type": "code",
   "execution_count": null,
   "metadata": {
    "tags": [
     "otter_answer_cell"
    ]
   },
   "outputs": [],
   "source": [
    "gss_1985_long_raw = ...\n",
    "gss_2004_long_raw = ..."
   ]
  },
  {
   "cell_type": "code",
   "execution_count": null,
   "metadata": {
    "deletable": false,
    "editable": false
   },
   "outputs": [],
   "source": [
    "grader.check(\"q13\")"
   ]
  },
  {
   "cell_type": "markdown",
   "metadata": {
    "deletable": false,
    "editable": false
   },
   "source": [
    "## Question 13:\n",
    "Not all respondents reported 5 alters. In cases where alter information is missing, `alter_age` is coded as -1. Furthermore, in cases where respondents did report about an alter, but they did not know or refused to give the alter's age, [the codebook](http://gss.norc.org/documents/codebook/GSS_Codebook.pdf) tells use that `alter_age` will have the value 98 or 99.\n",
    "\n",
    "Create the Tables gss_1985_long and gss_2004_long, which start from `gss_1985_long_raw` and `gss_2004_long_raw` and filter out rows where `alter_age` equals -1, 98, or 99 so that we are left with only actual reported alters whose age was given.\n",
    "\n",
    "*Hint: use `.where()` and `are.not_equal_to()` to perform filtering.*"
   ]
  },
  {
   "cell_type": "code",
   "execution_count": null,
   "metadata": {
    "tags": [
     "otter_answer_cell"
    ]
   },
   "outputs": [],
   "source": [
    "gss_1985_long = gss_1985_long_raw.where(...)\n",
    "gss_1985_long = gss_1985_long.where(...)\n",
    "gss_1985_long = gss_1985_long.where(...)\n",
    "\n",
    "gss_2004_long = gss_2004_long_raw.where(...)\n",
    "gss_2004_long = gss_2004_long.where(...)\n",
    "gss_2004_long = gss_2004_long.where(...)"
   ]
  },
  {
   "cell_type": "code",
   "execution_count": null,
   "metadata": {
    "deletable": false,
    "editable": false
   },
   "outputs": [],
   "source": [
    "grader.check(\"q13\")"
   ]
  },
  {
   "cell_type": "markdown",
   "metadata": {
    "deletable": false,
    "editable": false
   },
   "source": [
    "<!-- BEGIN QUESTION -->\n",
    "\n",
    "## Question 14:\n",
    "Create a scatterplot of the respondent's age and the alter's age (make a separate plot for 1985 and for 2004)."
   ]
  },
  {
   "cell_type": "code",
   "execution_count": null,
   "metadata": {
    "tags": [
     "otter_answer_cell"
    ]
   },
   "outputs": [],
   "source": [
    "gss_1985_long.scatter(...)"
   ]
  },
  {
   "cell_type": "code",
   "execution_count": null,
   "metadata": {
    "tags": [
     "otter_answer_cell"
    ]
   },
   "outputs": [],
   "source": [
    "gss_2004_long.scatter(...)"
   ]
  },
  {
   "cell_type": "markdown",
   "metadata": {
    "deletable": false,
    "editable": false
   },
   "source": [
    "<!-- END QUESTION -->\n",
    "\n",
    "## Additional Topic: Sampling Variation and Bootstrapping\n",
    "\n",
    "Most data we collect or use is based on a \"sample\" of some sort. For example, the dataset we will create with your Homework 1 personal networks survey tells us something about the personal networks of Berkeley students.\n",
    "But if we talked to a different set of Berkeley students, we could get a different answer. How do we know if what we observe in our sample is a good reflection of the real world? How does the variation in our sample relate to variation in the real world?\n",
    "\n",
    "We can actually estimate the sampling variation within our data, if we assume our data is sampled randomly. (This is a stretch, of course - we won't actually take a random sample. What difference might we expect between the people in our dataset and a randomly selected set of Berkeley students?)\n",
    "\n",
    "In order to estimate the sampling variation, we'll use an approach called resampling or the bootstrap. This is a topic we'll cover in more depth later, but this is a quick introduction.\n",
    "\n",
    "Bootstrapping involves resampling the data. If we picture our data sample as a bag of coins, where each coin is an observation, bootstrapping is the processing of putting all drawn coins back into the bag, reaching into the bag again and randomly drawing from the sample we've already collected. Let us resample the `numgiven` column in the GSS data we used as an example:\n"
   ]
  },
  {
   "cell_type": "code",
   "execution_count": null,
   "metadata": {},
   "outputs": [],
   "source": [
    "resampled_survey = gss_1985_responded.select('numgiven').sample()"
   ]
  },
  {
   "cell_type": "markdown",
   "metadata": {},
   "source": [
    "To see what happened here, let's look at resampled_survey:"
   ]
  },
  {
   "cell_type": "code",
   "execution_count": null,
   "metadata": {},
   "outputs": [],
   "source": [
    "resampled_survey"
   ]
  },
  {
   "cell_type": "markdown",
   "metadata": {},
   "source": [
    "`resampled_survey` is a random sample of the data from the `numgiven` values recorded in the original GSS data.\n",
    "To estimate the sampling variation, we need many resamples. So we'll stick the resampling in a loop:"
   ]
  },
  {
   "cell_type": "code",
   "execution_count": null,
   "metadata": {},
   "outputs": [],
   "source": [
    "resampled_numgiven = make_array()\n",
    "\n",
    "for _ in np.arange(10000):\n",
    "    # NB: num_responses rows in our dataset\n",
    "    resampled_survey = gss_1985_responded.select('numgiven').sample()  # resample the survey\n",
    "    resampled_numgiven = np.append(resampled_numgiven, \n",
    "                                        np.mean(resampled_survey['numgiven'])) # calculate the mean and add it to our list of means\n",
    "resampled_net_size = Table().with_column('numgiven', resampled_numgiven)"
   ]
  },
  {
   "cell_type": "markdown",
   "metadata": {},
   "source": [
    "'resampled_numgiven' now has the mean number of people respondents discuss important matters with for many different resamples of our data.\n",
    "\n",
    "Let's look at the distribution of the sample means"
   ]
  },
  {
   "cell_type": "code",
   "execution_count": null,
   "metadata": {},
   "outputs": [],
   "source": [
    "resampled_net_size.hist('numgiven', bins=50)"
   ]
  },
  {
   "cell_type": "markdown",
   "metadata": {},
   "source": [
    "Let's also check the mean of all values of `numgiven` in our GSS 1985 data:"
   ]
  },
  {
   "cell_type": "code",
   "execution_count": null,
   "metadata": {},
   "outputs": [],
   "source": [
    "np.mean(gss_1985_responded['numgiven'])"
   ]
  },
  {
   "cell_type": "markdown",
   "metadata": {},
   "source": [
    "We can see that the sample means we obtained from 10000 resamples varies around the population mean, and the distribution approximates a normal distribution. "
   ]
  },
  {
   "cell_type": "markdown",
   "metadata": {
    "deletable": false,
    "editable": false
   },
   "source": [
    "---\n",
    "\n",
    "To double-check your work, the cell below will rerun all of the autograder tests."
   ]
  },
  {
   "cell_type": "code",
   "execution_count": null,
   "metadata": {
    "deletable": false,
    "editable": false
   },
   "outputs": [],
   "source": [
    "grader.check_all()"
   ]
  }
 ],
 "metadata": {
  "kernelspec": {
   "display_name": "Python 3 (ipykernel)",
   "language": "python",
   "name": "python3"
  },
  "language_info": {
   "codemirror_mode": {
    "name": "ipython",
    "version": 3
   },
   "file_extension": ".py",
   "mimetype": "text/x-python",
   "name": "python",
   "nbconvert_exporter": "python",
   "pygments_lexer": "ipython3",
   "version": "3.13.7"
  },
  "otter": {
   "OK_FORMAT": true,
   "tests": {
    "q1": {
     "name": "q1",
     "points": 2,
     "suites": [
      {
       "cases": [
        {
         "code": ">>> np.isclose(gss_number_of_rows, 59599)\nTrue",
         "failure_message": "Incorrect number of rows",
         "hidden": false,
         "locked": false
        },
        {
         "code": ">>> np.isclose(gss_number_of_cols, 20)\nTrue",
         "failure_message": "Incorrect number of columns",
         "hidden": false,
         "locked": false
        }
       ],
       "scored": true,
       "setup": "",
       "teardown": "",
       "type": "doctest"
      }
     ]
    },
    "q10": {
     "name": "q10",
     "points": 2,
     "suites": [
      {
       "cases": [
        {
         "code": ">>> round(proportion_isolated_1985, 3) == 0.089\nTrue",
         "failure_message": "1985 survey incorrect proportion isolated",
         "hidden": false,
         "locked": false
        },
        {
         "code": ">>> round(proportion_isolated_2004, 3) == 0.25\nTrue",
         "failure_message": "2004 survey incorrect proportion isolated",
         "hidden": false,
         "locked": false
        }
       ],
       "scored": true,
       "setup": "",
       "teardown": "",
       "type": "doctest"
      }
     ]
    },
    "q12": {
     "name": "q12",
     "points": 1,
     "suites": [
      {
       "cases": [
        {
         "code": ">>> np.isclose(q1, 7655)\nTrue",
         "hidden": false,
         "locked": false
        }
       ],
       "scored": true,
       "setup": "",
       "teardown": "",
       "type": "doctest"
      }
     ]
    },
    "q13": {
     "name": "q13",
     "points": 1,
     "suites": [
      {
       "cases": [
        {
         "code": ">>> gss_1985_long_raw.num_rows == 7655\nTrue",
         "failure_message": "1985 incorrect number of rows. Hint- use `repeat_single_col` to replicate ego information and `wide_to_long` to pivot the alter information, as done in lab1",
         "hidden": false,
         "locked": false
        },
        {
         "code": ">>> gss_2004_long_raw.num_rows == 7130\nTrue",
         "failure_message": "2004 incorrect number of rows. Hint- use `repeat_single_col` to replicate ego information and `wide_to_long` to pivot the alter information, as done in lab1",
         "hidden": false,
         "locked": false
        },
        {
         "code": ">>> gss_1985_long.num_rows == 4429\nTrue",
         "failure_message": "1985 incorrect number of rows.",
         "hidden": false,
         "locked": false
        },
        {
         "code": ">>> gss_2004_long.num_rows == 2811\nTrue",
         "failure_message": "2004 incorrect number of rows.",
         "hidden": false,
         "locked": false
        }
       ],
       "scored": true,
       "setup": "",
       "teardown": "",
       "type": "doctest"
      }
     ]
    },
    "q2": {
     "name": "q2",
     "points": 2,
     "suites": [
      {
       "cases": [
        {
         "code": ">>> np.isclose(smallest_year, 1972)\nTrue",
         "failure_message": "Incorrect earliest year. Hint- select a column using `Table.column('column name in quotes')`",
         "hidden": false,
         "locked": false
        },
        {
         "code": ">>> np.isclose(largest_year, 2014)\nTrue",
         "failure_message": "Incorrect latest year. Hint- select a column using `Table.column('column name in quotes')`",
         "hidden": false,
         "locked": false
        }
       ],
       "scored": true,
       "setup": "",
       "teardown": "",
       "type": "doctest"
      }
     ]
    },
    "q3": {
     "name": "q3",
     "points": 2,
     "suites": [
      {
       "cases": [
        {
         "code": ">>> np.isclose(gss_1985.num_rows, 1534)\nTrue",
         "failure_message": "1985 survey incorrect number of rows. Hint- use functions `Table.where` and `are.equal_to(...)`",
         "hidden": false,
         "locked": false
        },
        {
         "code": ">>> np.isclose(gss_2004.num_rows, 2812)\nTrue",
         "failure_message": "2004 survey incorrect number of rows. Hint- use functions `Table.where` and `are.equal_to(...)`",
         "hidden": false,
         "locked": false
        }
       ],
       "scored": true,
       "setup": "",
       "teardown": "",
       "type": "doctest"
      }
     ]
    },
    "q4": {
     "name": "q4",
     "points": 1,
     "suites": [
      {
       "cases": [
        {
         "code": ">>> np.isclose(responses_from_1985, 1534)\nTrue",
         "failure_message": "1985 survey incorrect number of rows",
         "hidden": false,
         "locked": false
        },
        {
         "code": ">>> np.isclose(responses_from_2004, 2812)\nTrue",
         "failure_message": "2004 survey incorrect number of rows",
         "hidden": false,
         "locked": false
        }
       ],
       "scored": true,
       "setup": "",
       "teardown": "",
       "type": "doctest"
      }
     ]
    },
    "q5": {
     "name": "q5",
     "points": 1,
     "suites": [
      {
       "cases": [
        {
         "code": ">>> np.isclose(gss_1985_numgiven.num_rows, 8)\nTrue",
         "failure_message": "1985 survey incorrect number of rows.",
         "hidden": false,
         "locked": false
        },
        {
         "code": ">>> np.isclose(gss_1985_numgiven.num_columns, 2)\nTrue",
         "failure_message": "1985 survey incorrect number of columns",
         "hidden": false,
         "locked": false
        },
        {
         "code": ">>> np.isclose(gss_2004_numgiven.num_rows, 9)\nTrue",
         "failure_message": "2004 survey incorrect number of rows",
         "hidden": false,
         "locked": false
        },
        {
         "code": ">>> np.isclose(gss_2004_numgiven.num_columns, 2)\nTrue",
         "failure_message": "2004 survey incorrect number of columns",
         "hidden": false,
         "locked": false
        }
       ],
       "scored": true,
       "setup": "",
       "teardown": "",
       "type": "doctest"
      }
     ]
    },
    "q6": {
     "name": "q6",
     "points": 2,
     "suites": [
      {
       "cases": [
        {
         "code": ">>> np.isclose(gss_2004_interviewed.num_rows, 1472)\nTrue",
         "failure_message": "Incorrect number of rows",
         "hidden": false,
         "locked": false
        }
       ],
       "scored": true,
       "setup": "",
       "teardown": "",
       "type": "doctest"
      }
     ]
    },
    "q7": {
     "name": "q7",
     "points": 1,
     "suites": [
      {
       "cases": [
        {
         "code": ">>> np.isclose(gss_2004_responded.num_rows, 1426)\nTrue",
         "failure_message": "2004 survey incorrect number of columns.",
         "hidden": false,
         "locked": false
        },
        {
         "code": ">>> np.isclose(gss_1985_responded.num_rows, 1531)\nTrue",
         "failure_message": "1985 survey incorrect number of columns",
         "hidden": false,
         "locked": false
        }
       ],
       "scored": true,
       "setup": "",
       "teardown": "",
       "type": "doctest"
      }
     ]
    },
    "q9": {
     "name": "q9",
     "points": 1,
     "suites": [
      {
       "cases": [
        {
         "code": ">>> np.isclose(sum(isolated_1985), 136)\nTrue",
         "failure_message": "1985 survey incorrect number",
         "hidden": false,
         "locked": false
        },
        {
         "code": ">>> np.isclose(sum(isolated_2004), 356)\nTrue",
         "failure_message": "2004 survey incorrect number",
         "hidden": false,
         "locked": false
        }
       ],
       "scored": true,
       "setup": "",
       "teardown": "",
       "type": "doctest"
      }
     ]
    }
   }
  }
 },
 "nbformat": 4,
 "nbformat_minor": 4
}
